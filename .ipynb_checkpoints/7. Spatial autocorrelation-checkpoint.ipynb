{
 "cells": [
  {
   "cell_type": "code",
   "execution_count": 28,
   "id": "4412b7e4-28f8-4860-ae70-f8b905e045ca",
   "metadata": {
    "tags": []
   },
   "outputs": [],
   "source": [
    "import pandas as pd\n",
    "from shapely.geometry import Point\n",
    "import libpysal as lps\n",
    "from esda.moran import Moran\n",
    "from scipy.spatial import KDTree"
   ]
  },
  {
   "cell_type": "code",
   "execution_count": 12,
   "id": "9dbbb218-8e28-4300-9d5c-8ca626c5951b",
   "metadata": {
    "tags": []
   },
   "outputs": [],
   "source": [
    "df_spatial = pd.read_excel('data/set_corectat_complet.xlsx')"
   ]
  },
  {
   "cell_type": "code",
   "execution_count": 29,
   "id": "c421a0bf-67c1-4930-b4a0-c6d0bb615ab7",
   "metadata": {
    "tags": []
   },
   "outputs": [
    {
     "data": {
      "text/plain": [
       "0.0"
      ]
     },
     "execution_count": 29,
     "metadata": {},
     "output_type": "execute_result"
    }
   ],
   "source": [
    "# Convert the dataset to a GeoDataFrame\n",
    "geometry = [Point(xy) for xy in zip(df_spatial[\"lat\"], df_spatial[\"long\"])]\n",
    "gdf = gpd.GeoDataFrame(df_spatial, geometry=geometry)\n",
    "\n",
    "# Convert geometries to a list of (x, y) coordinates\n",
    "coordinates = [(geom.centroid.x, geom.centroid.y) for geom in gdf.geometry]\n",
    "\n",
    "# Use KDTree to calculate the distance to the nearest neighbor for each point\n",
    "tree = KDTree(coordinates)\n",
    "distances, _ = tree.query(coordinates, k=2)  # k=2 because the closest point is the point itself\n",
    "\n",
    "# Use the maximum of the nearest neighbor distances as the threshold\n",
    "threshold = distances[:, 1].max()\n",
    "\n",
    "threshold"
   ]
  },
  {
   "cell_type": "code",
   "execution_count": null,
   "id": "184a3497-5c65-4746-8521-dbffab4748d5",
   "metadata": {
    "tags": []
   },
   "outputs": [],
   "source": [
    "# Extract centroids as coordinates for KDTree\n",
    "coords = gdf[['long', 'lat']].values\n",
    "\n",
    "# Define an arbitrary threshold distance; this can be adjusted based on your needs\n",
    "threshold_distance = 0.3  # This value is a placeholder and might need adjustments\n",
    "\n",
    "# Construct the KDTree\n",
    "kdtree = KDTree(coords)\n",
    "\n",
    "# Query the KDTree for neighbors within the threshold distance\n",
    "pairs = kdtree.query_pairs(threshold_distance)\n",
    "\n",
    "# Convert the pairs to a neighbors dictionary format\n",
    "neighbors_dict_kdtree = {}\n",
    "for idx in range(len(coords)):\n",
    "    neighbors_dict_kdtree[idx] = [j for i, j in pairs if i == idx] + [i for i, j in pairs if j == idx]\n",
    "\n",
    "# Convert the neighbors dictionary to a spatial weights matrix\n",
    "w_kdtree = lps.weights.W(neighbors_dict_kdtree)\n",
    "\n",
    "# Check the number of neighbors for each county based on the KDTree approach\n",
    "num_neighbors_kdtree = w_kdtree.cardinalities\n",
    "\n",
    "num_neighbors_kdtree"
   ]
  },
  {
   "cell_type": "code",
   "execution_count": null,
   "id": "1e77fc06-0b0f-4f9d-a371-398ae26d6f2f",
   "metadata": {},
   "outputs": [],
   "source": []
  }
 ],
 "metadata": {
  "kernelspec": {
   "display_name": "Python 3 (ipykernel)",
   "language": "python",
   "name": "python3"
  },
  "language_info": {
   "codemirror_mode": {
    "name": "ipython",
    "version": 3
   },
   "file_extension": ".py",
   "mimetype": "text/x-python",
   "name": "python",
   "nbconvert_exporter": "python",
   "pygments_lexer": "ipython3",
   "version": "3.11.4"
  }
 },
 "nbformat": 4,
 "nbformat_minor": 5
}
