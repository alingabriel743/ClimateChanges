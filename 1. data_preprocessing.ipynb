{
 "cells": [
  {
   "cell_type": "markdown",
   "id": "ae6cbdd6-f587-4149-8708-c4fecda6d081",
   "metadata": {},
   "source": [
    "### Import libraries"
   ]
  },
  {
   "cell_type": "code",
   "execution_count": 17,
   "id": "52032630-bc3b-4bcd-abc3-5e76d7b66bc7",
   "metadata": {
    "tags": []
   },
   "outputs": [],
   "source": [
    "import pandas as pd\n",
    "import numpy as np\n",
    "import openai\n",
    "import ast\n",
    "\n",
    "\n",
    "pd.set_option('display.max_rows', None)"
   ]
  },
  {
   "cell_type": "markdown",
   "id": "abd5608e-fa57-40b7-abfd-09d17b8f651d",
   "metadata": {},
   "source": [
    "### Read dataset_option"
   ]
  },
  {
   "cell_type": "code",
   "execution_count": 68,
   "id": "8b880037-35e3-4eef-b2a4-152821d3da76",
   "metadata": {
    "tags": []
   },
   "outputs": [],
   "source": [
    "df = pd.read_json('data/meteo_news_updated.json')"
   ]
  },
  {
   "cell_type": "markdown",
   "id": "de35627c-4b84-48fd-9027-924ad0ff292a",
   "metadata": {},
   "source": [
    "### Data inspection"
   ]
  },
  {
   "cell_type": "markdown",
   "id": "2a8137b7-f396-4559-8791-cc7ff59b9792",
   "metadata": {},
   "source": [
    "Check dataframe for missing values"
   ]
  },
  {
   "cell_type": "code",
   "execution_count": 70,
   "id": "c3e9a0c9-1ef9-4f60-8792-62f57a2db78c",
   "metadata": {
    "tags": []
   },
   "outputs": [
    {
     "data": {
      "text/html": [
       "<div>\n",
       "<style scoped>\n",
       "    .dataframe tbody tr th:only-of-type {\n",
       "        vertical-align: middle;\n",
       "    }\n",
       "\n",
       "    .dataframe tbody tr th {\n",
       "        vertical-align: top;\n",
       "    }\n",
       "\n",
       "    .dataframe thead th {\n",
       "        text-align: right;\n",
       "    }\n",
       "</style>\n",
       "<table border=\"1\" class=\"dataframe\">\n",
       "  <thead>\n",
       "    <tr style=\"text-align: right;\">\n",
       "      <th></th>\n",
       "      <th>article_url</th>\n",
       "      <th>article_title</th>\n",
       "      <th>article_lead</th>\n",
       "      <th>article_text</th>\n",
       "      <th>article_date</th>\n",
       "    </tr>\n",
       "  </thead>\n",
       "  <tbody>\n",
       "    <tr>\n",
       "      <th>887</th>\n",
       "      <td>https://stirileprotv.ro/stiri/vremea/vremea-as...</td>\n",
       "      <td>Vremea astăzi, 5 iulie. Țara se împarte între ...</td>\n",
       "      <td>None</td>\n",
       "      <td>[Vremea în țară, În Dobrogea şi Bărăgan, la am...</td>\n",
       "      <td>05-07-2022 07:10</td>\n",
       "    </tr>\n",
       "    <tr>\n",
       "      <th>942</th>\n",
       "      <td>https://stirileprotv.ro/stiri/vremea/vremea-as...</td>\n",
       "      <td>Vremea astăzi, 11 iunie. Prognoza meteo pentru...</td>\n",
       "      <td>None</td>\n",
       "      <td>[\\nSursa: , \\n, \\nEtichete:\\n, ,\\n, ,\\n, ,\\n, ...</td>\n",
       "      <td>11-06-2022 07:19</td>\n",
       "    </tr>\n",
       "    <tr>\n",
       "      <th>1291</th>\n",
       "      <td>https://stirileprotv.ro/stiri/vremea/vremea-12...</td>\n",
       "      <td>Vremea, 12 Octombrie. Vremea se menține deoseb...</td>\n",
       "      <td>None</td>\n",
       "      <td>[ ,  Vreme ceva mai bună găsim doar în vest, î...</td>\n",
       "      <td>12-10-2021 07:24</td>\n",
       "    </tr>\n",
       "    <tr>\n",
       "      <th>2400</th>\n",
       "      <td>https://vacantalamunte.stirileprotv.ro/stiri/v...</td>\n",
       "      <td>None</td>\n",
       "      <td>None</td>\n",
       "      <td>[]</td>\n",
       "      <td></td>\n",
       "    </tr>\n",
       "    <tr>\n",
       "      <th>2435</th>\n",
       "      <td>https://vacantalamunte.stirileprotv.ro/stiri/n...</td>\n",
       "      <td>None</td>\n",
       "      <td>None</td>\n",
       "      <td>[]</td>\n",
       "      <td></td>\n",
       "    </tr>\n",
       "    <tr>\n",
       "      <th>3367</th>\n",
       "      <td>https://vacantalamare.stirileprotv.ro/stiri/ma...</td>\n",
       "      <td>None</td>\n",
       "      <td>None</td>\n",
       "      <td>[]</td>\n",
       "      <td></td>\n",
       "    </tr>\n",
       "    <tr>\n",
       "      <th>4149</th>\n",
       "      <td>https://vacantalamunte.stirileprotv.ro/stiri/s...</td>\n",
       "      <td>None</td>\n",
       "      <td>None</td>\n",
       "      <td>[]</td>\n",
       "      <td></td>\n",
       "    </tr>\n",
       "    <tr>\n",
       "      <th>6009</th>\n",
       "      <td>https://stirileprotv.ro/stiri/meteo/afla-cum-e...</td>\n",
       "      <td>Afla cum e vremea in Romania din ora in ora</td>\n",
       "      <td>None</td>\n",
       "      <td>[Sursa: ANM, \\nSursa: , \\n, \\nEtichete:\\n, ,\\n...</td>\n",
       "      <td>26-10-2011 20:02</td>\n",
       "    </tr>\n",
       "    <tr>\n",
       "      <th>6906</th>\n",
       "      <td>https://stirileprotv.ro/stiri/meteo/vom-avea-t...</td>\n",
       "      <td>Vom avea temperaturi de peste 33 de grade in s...</td>\n",
       "      <td>None</td>\n",
       "      <td>[\\nMasa de aer cald, tropical, va domina jumat...</td>\n",
       "      <td>23-05-2009 16:33</td>\n",
       "    </tr>\n",
       "  </tbody>\n",
       "</table>\n",
       "</div>"
      ],
      "text/plain": [
       "                                            article_url  \\\n",
       "887   https://stirileprotv.ro/stiri/vremea/vremea-as...   \n",
       "942   https://stirileprotv.ro/stiri/vremea/vremea-as...   \n",
       "1291  https://stirileprotv.ro/stiri/vremea/vremea-12...   \n",
       "2400  https://vacantalamunte.stirileprotv.ro/stiri/v...   \n",
       "2435  https://vacantalamunte.stirileprotv.ro/stiri/n...   \n",
       "3367  https://vacantalamare.stirileprotv.ro/stiri/ma...   \n",
       "4149  https://vacantalamunte.stirileprotv.ro/stiri/s...   \n",
       "6009  https://stirileprotv.ro/stiri/meteo/afla-cum-e...   \n",
       "6906  https://stirileprotv.ro/stiri/meteo/vom-avea-t...   \n",
       "\n",
       "                                          article_title article_lead  \\\n",
       "887   Vremea astăzi, 5 iulie. Țara se împarte între ...         None   \n",
       "942   Vremea astăzi, 11 iunie. Prognoza meteo pentru...         None   \n",
       "1291  Vremea, 12 Octombrie. Vremea se menține deoseb...         None   \n",
       "2400                                               None         None   \n",
       "2435                                               None         None   \n",
       "3367                                               None         None   \n",
       "4149                                               None         None   \n",
       "6009        Afla cum e vremea in Romania din ora in ora         None   \n",
       "6906  Vom avea temperaturi de peste 33 de grade in s...         None   \n",
       "\n",
       "                                           article_text      article_date  \n",
       "887   [Vremea în țară, În Dobrogea şi Bărăgan, la am...  05-07-2022 07:10  \n",
       "942   [\\nSursa: , \\n, \\nEtichete:\\n, ,\\n, ,\\n, ,\\n, ...  11-06-2022 07:19  \n",
       "1291  [ ,  Vreme ceva mai bună găsim doar în vest, î...  12-10-2021 07:24  \n",
       "2400                                                 []                    \n",
       "2435                                                 []                    \n",
       "3367                                                 []                    \n",
       "4149                                                 []                    \n",
       "6009  [Sursa: ANM, \\nSursa: , \\n, \\nEtichete:\\n, ,\\n...  26-10-2011 20:02  \n",
       "6906  [\\nMasa de aer cald, tropical, va domina jumat...  23-05-2009 16:33  "
      ]
     },
     "execution_count": 70,
     "metadata": {},
     "output_type": "execute_result"
    }
   ],
   "source": [
    "nan_df = df[df.isna().any(axis=1)]\n",
    "nan_df"
   ]
  },
  {
   "cell_type": "code",
   "execution_count": 71,
   "id": "3ffd2ffb-2dd4-4dd1-8a8a-ee0e1d8e2511",
   "metadata": {
    "tags": []
   },
   "outputs": [
    {
     "data": {
      "text/plain": [
       "(9, 5)"
      ]
     },
     "execution_count": 71,
     "metadata": {},
     "output_type": "execute_result"
    }
   ],
   "source": [
    "# Check shape\n",
    "nan_df.shape"
   ]
  },
  {
   "cell_type": "code",
   "execution_count": 72,
   "id": "aa372f62-ec3e-44d6-867e-729178d9984a",
   "metadata": {},
   "outputs": [],
   "source": [
    "# After reviewing those articles, we have determined that the URL is broken, the article has been deleted, and so on. \n",
    "# Therefore, we have decided to remove them, as they constitute only a small percentage of our dataframe."
   ]
  },
  {
   "cell_type": "markdown",
   "id": "279c4590-4a6f-4191-9c74-34925e041c4a",
   "metadata": {},
   "source": [
    "Drop the NaN's"
   ]
  },
  {
   "cell_type": "code",
   "execution_count": 73,
   "id": "5cba0790-e289-4fcb-a98e-7f154e8da12d",
   "metadata": {
    "tags": []
   },
   "outputs": [],
   "source": [
    "df.dropna(inplace=True)"
   ]
  },
  {
   "cell_type": "markdown",
   "id": "c0088dc9-f580-4821-ac84-ba5828f67778",
   "metadata": {},
   "source": [
    "Convert \"article_date\" to datetime datatype with pandas"
   ]
  },
  {
   "cell_type": "code",
   "execution_count": 74,
   "id": "69106118-aafe-4bbb-9c4e-d81ebb4db0e0",
   "metadata": {
    "tags": []
   },
   "outputs": [],
   "source": [
    "df['article_date'] = pd.to_datetime(df['article_date'], format='%d-%m-%Y %H:%M')\n",
    "\n",
    "# Sort values by article_date\n",
    "df = df.sort_values('article_date').reset_index(drop=True)"
   ]
  },
  {
   "cell_type": "markdown",
   "id": "1051510c-9b4b-486f-a06e-b07a3a2cdbbc",
   "metadata": {},
   "source": [
    "Check dataframe shape"
   ]
  },
  {
   "cell_type": "code",
   "execution_count": 75,
   "id": "c30000ab-f7c6-4cd6-a71f-e718b4d6641c",
   "metadata": {
    "tags": []
   },
   "outputs": [
    {
     "data": {
      "text/plain": [
       "(7088, 5)"
      ]
     },
     "execution_count": 75,
     "metadata": {},
     "output_type": "execute_result"
    }
   ],
   "source": [
    "df.shape"
   ]
  },
  {
   "cell_type": "code",
   "execution_count": 76,
   "id": "26127c6d-5ca4-41dd-b258-744bd55c32c9",
   "metadata": {
    "tags": []
   },
   "outputs": [],
   "source": [
    "# Our dataset is pretty consistent in order to build a POC or to prove our hypothesis"
   ]
  },
  {
   "cell_type": "markdown",
   "id": "fb9fb61b-078e-4dd4-8783-178e2f25b531",
   "metadata": {},
   "source": [
    "Check dtypes for each column in our dataframe"
   ]
  },
  {
   "cell_type": "code",
   "execution_count": 77,
   "id": "e9b454a8-77b1-454b-8871-a8afc184ad89",
   "metadata": {
    "tags": []
   },
   "outputs": [
    {
     "name": "stdout",
     "output_type": "stream",
     "text": [
      "<class 'pandas.core.frame.DataFrame'>\n",
      "RangeIndex: 7088 entries, 0 to 7087\n",
      "Data columns (total 5 columns):\n",
      " #   Column         Non-Null Count  Dtype         \n",
      "---  ------         --------------  -----         \n",
      " 0   article_url    7088 non-null   object        \n",
      " 1   article_title  7088 non-null   object        \n",
      " 2   article_lead   7088 non-null   object        \n",
      " 3   article_text   7088 non-null   object        \n",
      " 4   article_date   7088 non-null   datetime64[ns]\n",
      "dtypes: datetime64[ns](1), object(4)\n",
      "memory usage: 277.0+ KB\n"
     ]
    }
   ],
   "source": [
    "df.info()"
   ]
  },
  {
   "cell_type": "markdown",
   "id": "f04c5b4e-c07c-4281-84ba-134ab7773f92",
   "metadata": {},
   "source": [
    "Remove useless elements from article_text"
   ]
  },
  {
   "cell_type": "code",
   "execution_count": 78,
   "id": "58333a31-5f09-47c2-862c-1204715a6ce4",
   "metadata": {
    "tags": []
   },
   "outputs": [],
   "source": [
    "def remove_sursa(text_list):\n",
    "    for i in range(len(text_list)):\n",
    "        if text_list[i].startswith('\\nSursa:'):\n",
    "            return text_list[:i]\n",
    "    return text_list\n",
    "\n",
    "df['article_text'] = df['article_text'].apply(remove_sursa)"
   ]
  },
  {
   "cell_type": "markdown",
   "id": "79606d13-d002-4b77-b44e-f9558a1b280c",
   "metadata": {},
   "source": [
    "Clean text"
   ]
  },
  {
   "cell_type": "code",
   "execution_count": 79,
   "id": "0508bf8b-d6cc-442e-a01f-d89ba9d272bb",
   "metadata": {
    "tags": []
   },
   "outputs": [],
   "source": [
    "def clean_text_list(text_list):\n",
    "    cleaned_list = [text.replace('\\xa0', '').strip() for text in text_list if text.strip() != '']\n",
    "    return cleaned_list\n",
    "\n",
    "df['article_text'] = df['article_text'].apply(clean_text_list)\n",
    "\n",
    "# Join sentences\n",
    "df['article_text'] = df['article_text'].apply(lambda sentences: ' '.join(sentences))"
   ]
  },
  {
   "cell_type": "markdown",
   "id": "2cc7a9eb-b5c2-4df5-bfad-0624be2912ee",
   "metadata": {},
   "source": [
    "Remove diacritics from our dataframe"
   ]
  },
  {
   "cell_type": "code",
   "execution_count": 80,
   "id": "c2a2a2ec-c94b-4b00-bc40-75b9ae918d9c",
   "metadata": {
    "tags": []
   },
   "outputs": [],
   "source": [
    "def remove_diacritics(text):\n",
    "    return unidecode(text)\n",
    "\n",
    "df = df.applymap(lambda x: remove_diacritics(str(x)))"
   ]
  },
  {
   "cell_type": "markdown",
   "id": "f23817f7-2086-4741-b2d7-e87ffd376488",
   "metadata": {},
   "source": [
    "Read the dataframe containing geo locations"
   ]
  },
  {
   "cell_type": "code",
   "execution_count": 81,
   "id": "3d082dc4-86c2-4fd7-961b-18557449d83d",
   "metadata": {
    "tags": []
   },
   "outputs": [],
   "source": [
    "# Read the dataframe containing the counties and the regions\n",
    "df_romania = pd.read_excel('data/romania_geo.xlsx')\n",
    "counties = df_romania['Judet'].to_list()\n",
    "regions = df_romania['Regiune'].dropna().to_list()"
   ]
  },
  {
   "cell_type": "markdown",
   "id": "4d42f534-7a00-4ee3-a349-b97516116d2c",
   "metadata": {},
   "source": [
    "Lemmatize article_text"
   ]
  },
  {
   "cell_type": "code",
   "execution_count": 82,
   "id": "0546408f-41b6-418e-bb92-f08991033435",
   "metadata": {
    "tags": []
   },
   "outputs": [],
   "source": [
    "# Function to lemmatize a text\n",
    "def lemmatize_text(text):\n",
    "    doc = nlp(text)\n",
    "    return \" \".join([token.lemma_ for token in doc])\n",
    "\n",
    "# Lemmatize the 'article_text' column\n",
    "df['article_text_lemmatized'] = df['article_text'].apply(lemmatize_text)"
   ]
  },
  {
   "cell_type": "markdown",
   "id": "6a7a5521-d235-4469-8e38-e323356ef9ab",
   "metadata": {},
   "source": [
    "Stem article_text"
   ]
  },
  {
   "cell_type": "code",
   "execution_count": 83,
   "id": "dccc033f-af42-45eb-9843-8ef637f5ccd9",
   "metadata": {
    "tags": []
   },
   "outputs": [],
   "source": [
    "# Function to stem text\n",
    "def stem_text(text):\n",
    "    return \" \".join(stemmer.stem(word) for word in text.split())\n",
    "\n",
    "# Stem the 'article_text' column\n",
    "df['article_text_stemmed'] = df['article_text'].apply(stem_text)"
   ]
  },
  {
   "cell_type": "markdown",
   "id": "85edb125-f677-4920-a351-aa86b3ad7aff",
   "metadata": {},
   "source": [
    "Lowercase the words again"
   ]
  },
  {
   "cell_type": "code",
   "execution_count": 84,
   "id": "d0d486ed-e2f6-4c59-866f-2f18a4487946",
   "metadata": {
    "tags": []
   },
   "outputs": [],
   "source": [
    "# df_preprocessed = df_preprocessed.applymap(lambda x: remove_diacritics(str(x)))"
   ]
  },
  {
   "cell_type": "markdown",
   "id": "67cfe80e-1ffa-4ba3-a356-936f8e00de0f",
   "metadata": {},
   "source": [
    "Create a copy of the original dataframe"
   ]
  },
  {
   "cell_type": "code",
   "execution_count": 85,
   "id": "64626b5d-acba-405d-920f-e69df15096ea",
   "metadata": {
    "tags": []
   },
   "outputs": [],
   "source": [
    "df_preprocessed = df.copy()"
   ]
  },
  {
   "cell_type": "markdown",
   "id": "bbdcd01e-26d8-4d9a-955e-096d3939e1d6",
   "metadata": {},
   "source": [
    "Extract from lemmatized text"
   ]
  },
  {
   "cell_type": "code",
   "execution_count": 86,
   "id": "66581437-f230-4153-a565-5514ecafea54",
   "metadata": {
    "tags": []
   },
   "outputs": [],
   "source": [
    "lemmatized_regions = [lemmatize_text(region) for region in regions]\n",
    "lemmatized_counties = [lemmatize_text(county) for county in counties]\n",
    "\n",
    "location_mapping_counties_lemma = dict(zip([lemma.lower() for lemma in lemmatized_counties], counties))\n",
    "location_mapping_regions_lemma = dict(zip([lemma.lower() for lemma in lemmatized_regions], regions))\n",
    "\n",
    "def extract_lemmatized_location(text, lemmatized_locations, location_mapping):\n",
    "    words = text.lower().split()\n",
    "    detected = [location_mapping[word] for word in words if word in lemmatized_locations]\n",
    "    return list(set(detected))\n",
    "\n",
    "df_preprocessed['article_text_county_lemma'] = df_preprocessed['article_text_lemmatized'].apply(extract_lemmatized_location, lemmatized_locations=[lemma.lower() for lemma in lemmatized_counties], location_mapping=location_mapping_counties_lemma)\n",
    "df_preprocessed['article_text_region_lemma'] = df_preprocessed['article_text_lemmatized'].apply(extract_lemmatized_location, lemmatized_locations=[lemma.lower() for lemma in lemmatized_regions], location_mapping=location_mapping_regions_lemma)"
   ]
  },
  {
   "cell_type": "markdown",
   "id": "65e0bcce-aa97-4358-98cb-ae0bca35e12d",
   "metadata": {},
   "source": [
    "Extract from stemmed text"
   ]
  },
  {
   "cell_type": "code",
   "execution_count": 87,
   "id": "13347e8e-0108-4457-b091-3d65a7e33ba3",
   "metadata": {
    "tags": []
   },
   "outputs": [],
   "source": [
    "stemmed_regions = [stem_text(region) for region in regions]\n",
    "stemmed_counties = [stem_text(county) for county in counties]\n",
    "\n",
    "location_mapping_counties = dict(zip([stem.lower() for stem in stemmed_counties], counties))\n",
    "location_mapping_regions = dict(zip([stem.lower() for stem in stemmed_regions], regions))\n",
    "\n",
    "def extract_stemmed_locations(text, stemmed_locations, location_mapping):\n",
    "    words = text.lower().split()\n",
    "    detected = [location_mapping[word] for word in words if word in stemmed_locations]\n",
    "    return list(set(detected))\n",
    "\n",
    "df_preprocessed['article_text_county_stem'] = df_preprocessed['article_text_stemmed'].apply(extract_stemmed_locations, stemmed_locations=[stem.lower() for stem in stemmed_counties], location_mapping=location_mapping_counties)\n",
    "df_preprocessed['article_text_region_stem'] = df_preprocessed['article_text_stemmed'].apply(extract_stemmed_locations, stemmed_locations=[stem.lower() for stem in stemmed_regions], location_mapping=location_mapping_regions)"
   ]
  },
  {
   "cell_type": "markdown",
   "id": "01934d40-d993-44b0-afc0-89660a4fe9b3",
   "metadata": {},
   "source": [
    "Read the dataframe containing extreme phenomena"
   ]
  },
  {
   "cell_type": "code",
   "execution_count": 88,
   "id": "facea0d6-07dd-4523-a00a-0c0795efbd53",
   "metadata": {
    "tags": []
   },
   "outputs": [],
   "source": [
    "df_phenomena = pd.read_excel('data/extreme_phenomena.xlsx')\n",
    "extreme_phenomena = df_phenomena['Fenomene'].to_list()"
   ]
  },
  {
   "cell_type": "markdown",
   "id": "59f45177-a93b-46a6-b4e4-29f5021eab4d",
   "metadata": {},
   "source": [
    "Extract from lemma and stem extreme phenomena"
   ]
  },
  {
   "cell_type": "code",
   "execution_count": 89,
   "id": "2cb7ac7d-37f8-4e0f-9d45-e8eaa5eb37a2",
   "metadata": {
    "tags": []
   },
   "outputs": [],
   "source": [
    "lemmatized_phenomena = [lemmatize_text(phenomena) for phenomena in extreme_phenomena]\n",
    "phenomena_mapping_lemma = dict(zip([lemma.lower() for lemma in lemmatized_phenomena], extreme_phenomena))\n",
    "\n",
    "stemmed_phenomena = [stem_text(phenomena) for phenomena in extreme_phenomena]\n",
    "phenomena_mapping_stem = dict(zip([stem.lower() for stem in stemmed_phenomena], extreme_phenomena))\n",
    "\n",
    "df_preprocessed['article_text_phenomen_lemma'] = df_preprocessed['article_text_lemmatized'].apply(extract_lemmatized_location, lemmatized_locations=[lemma.lower() for lemma in lemmatized_phenomena], location_mapping=phenomena_mapping_lemma)\n",
    "df_preprocessed['article_text_phenomen_stem'] = df_preprocessed['article_text_stemmed'].apply(extract_stemmed_locations, stemmed_locations=[stem.lower() for stem in stemmed_phenomena], location_mapping=phenomena_mapping_stem)"
   ]
  },
  {
   "cell_type": "code",
   "execution_count": 90,
   "id": "fd51bca3-718f-43e9-a522-4f04f325b61c",
   "metadata": {
    "tags": []
   },
   "outputs": [
    {
     "data": {
      "text/html": [
       "<div>\n",
       "<style scoped>\n",
       "    .dataframe tbody tr th:only-of-type {\n",
       "        vertical-align: middle;\n",
       "    }\n",
       "\n",
       "    .dataframe tbody tr th {\n",
       "        vertical-align: top;\n",
       "    }\n",
       "\n",
       "    .dataframe thead th {\n",
       "        text-align: right;\n",
       "    }\n",
       "</style>\n",
       "<table border=\"1\" class=\"dataframe\">\n",
       "  <thead>\n",
       "    <tr style=\"text-align: right;\">\n",
       "      <th></th>\n",
       "      <th>article_url</th>\n",
       "      <th>article_title</th>\n",
       "      <th>article_lead</th>\n",
       "      <th>article_text</th>\n",
       "      <th>article_date</th>\n",
       "      <th>article_text_lemmatized</th>\n",
       "      <th>article_text_stemmed</th>\n",
       "      <th>article_text_county_lemma</th>\n",
       "      <th>article_text_region_lemma</th>\n",
       "      <th>article_text_county_stem</th>\n",
       "      <th>article_text_region_stem</th>\n",
       "      <th>article_text_phenomen_lemma</th>\n",
       "      <th>article_text_phenomen_stem</th>\n",
       "    </tr>\n",
       "  </thead>\n",
       "  <tbody>\n",
       "    <tr>\n",
       "      <th>7083</th>\n",
       "      <td>https://stirileprotv.ro/stiri/vremea/furtuni-u...</td>\n",
       "      <td>Ploi torentiale, vijelii si grindina in vest, ...</td>\n",
       "      <td>Meteorologii anunta, ca, pana joi dimineata, e...</td>\n",
       "      <td>In anumite zone din tara vantul va sufla cu pu...</td>\n",
       "      <td>2023-08-16 10:47:00</td>\n",
       "      <td>in anumit zonă din tară vant vrea sufla cu put...</td>\n",
       "      <td>in anum zon din tar vant va sufl cu putere. de...</td>\n",
       "      <td>[]</td>\n",
       "      <td>[Dobrogea]</td>\n",
       "      <td>[]</td>\n",
       "      <td>[Dobrogea]</td>\n",
       "      <td>[Grindină, Caniculă]</td>\n",
       "      <td>[Vijelie, Caniculă]</td>\n",
       "    </tr>\n",
       "    <tr>\n",
       "      <th>7084</th>\n",
       "      <td>https://stirileprotv.ro/stiri/vremea/alerta-de...</td>\n",
       "      <td>Avertisment de canicula in mai multe regiuni a...</td>\n",
       "      <td>Sudul si sud-estul tarii se va afla, de joi pa...</td>\n",
       "      <td>Astfel, in perioada 17 - 20 august 2023, va fi...</td>\n",
       "      <td>2023-08-17 08:22:00</td>\n",
       "      <td>astfel , in perioadă 17 - 20 august 2023 , vre...</td>\n",
       "      <td>astfel, in perioad 17 - 20 august 2023, va fi ...</td>\n",
       "      <td>[]</td>\n",
       "      <td>[]</td>\n",
       "      <td>[]</td>\n",
       "      <td>[]</td>\n",
       "      <td>[Caniculă]</td>\n",
       "      <td>[Caniculă]</td>\n",
       "    </tr>\n",
       "    <tr>\n",
       "      <th>7085</th>\n",
       "      <td>https://stirileprotv.ro/stiri/vremea/vremea-az...</td>\n",
       "      <td>Vremea azi, 17 august. Canicula in sud si in s...</td>\n",
       "      <td>Vremea se incalzeste, iar amiaza aduce canicul...</td>\n",
       "      <td>Aversele apar, local, la deal, la munte, de as...</td>\n",
       "      <td>2023-08-17 08:48:00</td>\n",
       "      <td>avers apărea , local , la deal , la munte , de...</td>\n",
       "      <td>aver apar, local, la deal, la munte, de asemen...</td>\n",
       "      <td>[Vaslui]</td>\n",
       "      <td>[Moldova, Bucovina, Transilvania, Oltenia, Dob...</td>\n",
       "      <td>[]</td>\n",
       "      <td>[Moldova, Bucovina, Transilvania, Oltenia, Dob...</td>\n",
       "      <td>[Fulger, Caniculă, Grindină]</td>\n",
       "      <td>[Caniculă]</td>\n",
       "    </tr>\n",
       "    <tr>\n",
       "      <th>7086</th>\n",
       "      <td>https://stirileprotv.ro/stiri/vremea/vremea-az...</td>\n",
       "      <td>Vremea azi, 18 august. Disconfortul termic est...</td>\n",
       "      <td>Ziua de vineri ne aduce vreme foarte calda, ca...</td>\n",
       "      <td>Maximele pornesc de la 28 de grade pe litoral ...</td>\n",
       "      <td>2023-08-18 10:44:00</td>\n",
       "      <td>Maximele porni de la 28 de grad pe litoral si ...</td>\n",
       "      <td>maxim porn de la 28 de grad pe litoral si ajun...</td>\n",
       "      <td>[]</td>\n",
       "      <td>[Muntenia, Moldova, Bucovina, Transilvania, Ol...</td>\n",
       "      <td>[]</td>\n",
       "      <td>[Muntenia, Moldova, Bucovina, Transilvania, Ol...</td>\n",
       "      <td>[Fulger, Grindină, Caniculă]</td>\n",
       "      <td>[Grindină, Caniculă]</td>\n",
       "    </tr>\n",
       "    <tr>\n",
       "      <th>7087</th>\n",
       "      <td>https://stirileprotv.ro/stiri/vremea/vremea-az...</td>\n",
       "      <td>Vremea azi, 19 august. Disconfort termic ridic...</td>\n",
       "      <td>Ziua de astazi ne-aduce vreme calda, disconfor...</td>\n",
       "      <td>Maximele pleaca de la 28 de grade in sudul lit...</td>\n",
       "      <td>2023-08-19 11:09:00</td>\n",
       "      <td>Maximele pleacae de la 28 de grad in sud litor...</td>\n",
       "      <td>maxim pleac de la 28 de grad in sud litoral si...</td>\n",
       "      <td>[]</td>\n",
       "      <td>[Muntenia, Moldova, Bucovina, Transilvania, Do...</td>\n",
       "      <td>[]</td>\n",
       "      <td>[Moldova, Dobrogea, Transilvania, Muntenia]</td>\n",
       "      <td>[Fulger, Grindină, Caniculă]</td>\n",
       "      <td>[Grindină]</td>\n",
       "    </tr>\n",
       "  </tbody>\n",
       "</table>\n",
       "</div>"
      ],
      "text/plain": [
       "                                            article_url  \\\n",
       "7083  https://stirileprotv.ro/stiri/vremea/furtuni-u...   \n",
       "7084  https://stirileprotv.ro/stiri/vremea/alerta-de...   \n",
       "7085  https://stirileprotv.ro/stiri/vremea/vremea-az...   \n",
       "7086  https://stirileprotv.ro/stiri/vremea/vremea-az...   \n",
       "7087  https://stirileprotv.ro/stiri/vremea/vremea-az...   \n",
       "\n",
       "                                          article_title  \\\n",
       "7083  Ploi torentiale, vijelii si grindina in vest, ...   \n",
       "7084  Avertisment de canicula in mai multe regiuni a...   \n",
       "7085  Vremea azi, 17 august. Canicula in sud si in s...   \n",
       "7086  Vremea azi, 18 august. Disconfortul termic est...   \n",
       "7087  Vremea azi, 19 august. Disconfort termic ridic...   \n",
       "\n",
       "                                           article_lead  \\\n",
       "7083  Meteorologii anunta, ca, pana joi dimineata, e...   \n",
       "7084  Sudul si sud-estul tarii se va afla, de joi pa...   \n",
       "7085  Vremea se incalzeste, iar amiaza aduce canicul...   \n",
       "7086  Ziua de vineri ne aduce vreme foarte calda, ca...   \n",
       "7087  Ziua de astazi ne-aduce vreme calda, disconfor...   \n",
       "\n",
       "                                           article_text         article_date  \\\n",
       "7083  In anumite zone din tara vantul va sufla cu pu...  2023-08-16 10:47:00   \n",
       "7084  Astfel, in perioada 17 - 20 august 2023, va fi...  2023-08-17 08:22:00   \n",
       "7085  Aversele apar, local, la deal, la munte, de as...  2023-08-17 08:48:00   \n",
       "7086  Maximele pornesc de la 28 de grade pe litoral ...  2023-08-18 10:44:00   \n",
       "7087  Maximele pleaca de la 28 de grade in sudul lit...  2023-08-19 11:09:00   \n",
       "\n",
       "                                article_text_lemmatized  \\\n",
       "7083  in anumit zonă din tară vant vrea sufla cu put...   \n",
       "7084  astfel , in perioadă 17 - 20 august 2023 , vre...   \n",
       "7085  avers apărea , local , la deal , la munte , de...   \n",
       "7086  Maximele porni de la 28 de grad pe litoral si ...   \n",
       "7087  Maximele pleacae de la 28 de grad in sud litor...   \n",
       "\n",
       "                                   article_text_stemmed  \\\n",
       "7083  in anum zon din tar vant va sufl cu putere. de...   \n",
       "7084  astfel, in perioad 17 - 20 august 2023, va fi ...   \n",
       "7085  aver apar, local, la deal, la munte, de asemen...   \n",
       "7086  maxim porn de la 28 de grad pe litoral si ajun...   \n",
       "7087  maxim pleac de la 28 de grad in sud litoral si...   \n",
       "\n",
       "     article_text_county_lemma  \\\n",
       "7083                        []   \n",
       "7084                        []   \n",
       "7085                  [Vaslui]   \n",
       "7086                        []   \n",
       "7087                        []   \n",
       "\n",
       "                              article_text_region_lemma  \\\n",
       "7083                                         [Dobrogea]   \n",
       "7084                                                 []   \n",
       "7085  [Moldova, Bucovina, Transilvania, Oltenia, Dob...   \n",
       "7086  [Muntenia, Moldova, Bucovina, Transilvania, Ol...   \n",
       "7087  [Muntenia, Moldova, Bucovina, Transilvania, Do...   \n",
       "\n",
       "     article_text_county_stem  \\\n",
       "7083                       []   \n",
       "7084                       []   \n",
       "7085                       []   \n",
       "7086                       []   \n",
       "7087                       []   \n",
       "\n",
       "                               article_text_region_stem  \\\n",
       "7083                                         [Dobrogea]   \n",
       "7084                                                 []   \n",
       "7085  [Moldova, Bucovina, Transilvania, Oltenia, Dob...   \n",
       "7086  [Muntenia, Moldova, Bucovina, Transilvania, Ol...   \n",
       "7087        [Moldova, Dobrogea, Transilvania, Muntenia]   \n",
       "\n",
       "       article_text_phenomen_lemma article_text_phenomen_stem  \n",
       "7083          [Grindină, Caniculă]        [Vijelie, Caniculă]  \n",
       "7084                    [Caniculă]                 [Caniculă]  \n",
       "7085  [Fulger, Caniculă, Grindină]                 [Caniculă]  \n",
       "7086  [Fulger, Grindină, Caniculă]       [Grindină, Caniculă]  \n",
       "7087  [Fulger, Grindină, Caniculă]                 [Grindină]  "
      ]
     },
     "execution_count": 90,
     "metadata": {},
     "output_type": "execute_result"
    }
   ],
   "source": [
    "df_preprocessed.tail(5)"
   ]
  },
  {
   "cell_type": "markdown",
   "id": "614712cb-f6ed-4bd9-a846-ba2b60bd305c",
   "metadata": {},
   "source": [
    "### Export dataframe"
   ]
  },
  {
   "cell_type": "code",
   "execution_count": 91,
   "id": "bf999f3d-e70a-4308-8c79-e24d2f196c6c",
   "metadata": {
    "tags": []
   },
   "outputs": [],
   "source": [
    "df_preprocessed.to_excel('data/data_preprocessed.xlsx', index=False)"
   ]
  },
  {
   "cell_type": "code",
   "execution_count": 146,
   "id": "ea7d9148-d890-4114-8ebb-9d618e4c5053",
   "metadata": {},
   "outputs": [],
   "source": [
    "df_viteza = pd.read_excel('data/vant.xlsx')"
   ]
  },
  {
   "cell_type": "code",
   "execution_count": 147,
   "id": "8ef2520b-2012-4ada-9400-c8ad3a7ca9c9",
   "metadata": {
    "tags": []
   },
   "outputs": [
    {
     "data": {
      "text/html": [
       "<div>\n",
       "<style scoped>\n",
       "    .dataframe tbody tr th:only-of-type {\n",
       "        vertical-align: middle;\n",
       "    }\n",
       "\n",
       "    .dataframe tbody tr th {\n",
       "        vertical-align: top;\n",
       "    }\n",
       "\n",
       "    .dataframe thead th {\n",
       "        text-align: right;\n",
       "    }\n",
       "</style>\n",
       "<table border=\"1\" class=\"dataframe\">\n",
       "  <thead>\n",
       "    <tr style=\"text-align: right;\">\n",
       "      <th></th>\n",
       "      <th>Data</th>\n",
       "      <th>Viteza1</th>\n",
       "      <th>Viteza2</th>\n",
       "      <th>Viteza3</th>\n",
       "      <th>Viteza4</th>\n",
       "      <th>Viteza5</th>\n",
       "      <th>Viteza6</th>\n",
       "      <th>Viteza7</th>\n",
       "      <th>Viteza8</th>\n",
       "    </tr>\n",
       "  </thead>\n",
       "  <tbody>\n",
       "    <tr>\n",
       "      <th>0</th>\n",
       "      <td>2009-01-01 01:00:00</td>\n",
       "      <td>0.5</td>\n",
       "      <td>*</td>\n",
       "      <td>-</td>\n",
       "      <td>2.9</td>\n",
       "      <td>1.8</td>\n",
       "      <td>1.7</td>\n",
       "      <td>2</td>\n",
       "      <td>*</td>\n",
       "    </tr>\n",
       "    <tr>\n",
       "      <th>1</th>\n",
       "      <td>2009-01-01 02:00:00</td>\n",
       "      <td>0.6</td>\n",
       "      <td>*</td>\n",
       "      <td>-</td>\n",
       "      <td>1.9</td>\n",
       "      <td>1.5</td>\n",
       "      <td>1.3</td>\n",
       "      <td>1.9</td>\n",
       "      <td>*</td>\n",
       "    </tr>\n",
       "    <tr>\n",
       "      <th>2</th>\n",
       "      <td>2009-01-01 03:00:00</td>\n",
       "      <td>0.4</td>\n",
       "      <td>*</td>\n",
       "      <td>-</td>\n",
       "      <td>2</td>\n",
       "      <td>1.2</td>\n",
       "      <td>1.7</td>\n",
       "      <td>1.9</td>\n",
       "      <td>*</td>\n",
       "    </tr>\n",
       "    <tr>\n",
       "      <th>3</th>\n",
       "      <td>2009-01-01 04:00:00</td>\n",
       "      <td>0.3</td>\n",
       "      <td>*</td>\n",
       "      <td>-</td>\n",
       "      <td>1.8</td>\n",
       "      <td>1.1</td>\n",
       "      <td>2</td>\n",
       "      <td>1.7</td>\n",
       "      <td>*</td>\n",
       "    </tr>\n",
       "    <tr>\n",
       "      <th>4</th>\n",
       "      <td>2009-01-01 05:00:00</td>\n",
       "      <td>0.3</td>\n",
       "      <td>*</td>\n",
       "      <td>-</td>\n",
       "      <td>2</td>\n",
       "      <td>0.6</td>\n",
       "      <td>1.8</td>\n",
       "      <td>1.3</td>\n",
       "      <td>*</td>\n",
       "    </tr>\n",
       "    <tr>\n",
       "      <th>...</th>\n",
       "      <td>...</td>\n",
       "      <td>...</td>\n",
       "      <td>...</td>\n",
       "      <td>...</td>\n",
       "      <td>...</td>\n",
       "      <td>...</td>\n",
       "      <td>...</td>\n",
       "      <td>...</td>\n",
       "      <td>...</td>\n",
       "    </tr>\n",
       "    <tr>\n",
       "      <th>8730</th>\n",
       "      <td>2009-12-30 20:00:00</td>\n",
       "      <td>0.1</td>\n",
       "      <td>*</td>\n",
       "      <td>-</td>\n",
       "      <td>0</td>\n",
       "      <td>0.4</td>\n",
       "      <td>0.7</td>\n",
       "      <td>0</td>\n",
       "      <td>*</td>\n",
       "    </tr>\n",
       "    <tr>\n",
       "      <th>8731</th>\n",
       "      <td>2009-12-30 21:00:00</td>\n",
       "      <td>0.3</td>\n",
       "      <td>*</td>\n",
       "      <td>-</td>\n",
       "      <td>0</td>\n",
       "      <td>0.6</td>\n",
       "      <td>0.7</td>\n",
       "      <td>0</td>\n",
       "      <td>*</td>\n",
       "    </tr>\n",
       "    <tr>\n",
       "      <th>8732</th>\n",
       "      <td>2009-12-30 22:00:00</td>\n",
       "      <td>0.6</td>\n",
       "      <td>*</td>\n",
       "      <td>-</td>\n",
       "      <td>0</td>\n",
       "      <td>0.7</td>\n",
       "      <td>0.5</td>\n",
       "      <td>0</td>\n",
       "      <td>*</td>\n",
       "    </tr>\n",
       "    <tr>\n",
       "      <th>8733</th>\n",
       "      <td>2009-12-30 23:00:00</td>\n",
       "      <td>0.7</td>\n",
       "      <td>*</td>\n",
       "      <td>-</td>\n",
       "      <td>0</td>\n",
       "      <td>0.7</td>\n",
       "      <td>0.4</td>\n",
       "      <td>0</td>\n",
       "      <td>*</td>\n",
       "    </tr>\n",
       "    <tr>\n",
       "      <th>8734</th>\n",
       "      <td>2009-12-31 00:00:00</td>\n",
       "      <td>0.9</td>\n",
       "      <td>*</td>\n",
       "      <td>-</td>\n",
       "      <td>0</td>\n",
       "      <td>0.3</td>\n",
       "      <td>0.4</td>\n",
       "      <td>0</td>\n",
       "      <td>*</td>\n",
       "    </tr>\n",
       "  </tbody>\n",
       "</table>\n",
       "<p>8735 rows × 9 columns</p>\n",
       "</div>"
      ],
      "text/plain": [
       "                    Data Viteza1 Viteza2 Viteza3 Viteza4 Viteza5 Viteza6  \\\n",
       "0    2009-01-01 01:00:00     0.5       *       -     2.9     1.8     1.7   \n",
       "1    2009-01-01 02:00:00     0.6       *       -     1.9     1.5     1.3   \n",
       "2    2009-01-01 03:00:00     0.4       *       -       2     1.2     1.7   \n",
       "3    2009-01-01 04:00:00     0.3       *       -     1.8     1.1       2   \n",
       "4    2009-01-01 05:00:00     0.3       *       -       2     0.6     1.8   \n",
       "...                  ...     ...     ...     ...     ...     ...     ...   \n",
       "8730 2009-12-30 20:00:00     0.1       *       -       0     0.4     0.7   \n",
       "8731 2009-12-30 21:00:00     0.3       *       -       0     0.6     0.7   \n",
       "8732 2009-12-30 22:00:00     0.6       *       -       0     0.7     0.5   \n",
       "8733 2009-12-30 23:00:00     0.7       *       -       0     0.7     0.4   \n",
       "8734 2009-12-31 00:00:00     0.9       *       -       0     0.3     0.4   \n",
       "\n",
       "     Viteza7 Viteza8  \n",
       "0          2       *  \n",
       "1        1.9       *  \n",
       "2        1.9       *  \n",
       "3        1.7       *  \n",
       "4        1.3       *  \n",
       "...      ...     ...  \n",
       "8730       0       *  \n",
       "8731       0       *  \n",
       "8732       0       *  \n",
       "8733       0       *  \n",
       "8734       0       *  \n",
       "\n",
       "[8735 rows x 9 columns]"
      ]
     },
     "execution_count": 147,
     "metadata": {},
     "output_type": "execute_result"
    }
   ],
   "source": [
    "df_viteza\n"
   ]
  },
  {
   "cell_type": "code",
   "execution_count": 148,
   "id": "327c2073-b1a5-455c-af73-758cc2a7fbce",
   "metadata": {
    "tags": []
   },
   "outputs": [],
   "source": [
    "# Convert 'Data' column to datetime format\n",
    "df_viteza['Data'] = pd.to_datetime(df_viteza['Data'])\n",
    "\n",
    "# Replace '-' with NaN\n",
    "df_viteza.replace('-', np.nan, inplace=True)\n",
    "\n",
    "# Convert 'Viteza' columns to numeric\n",
    "viteza_columns = ['Viteza1', 'Viteza2', 'Viteza3', 'Viteza4', 'Viteza5', 'Viteza6', 'Viteza7', 'Viteza8']\n",
    "df_viteza[viteza_columns] = df_viteza[viteza_columns].apply(pd.to_numeric, errors='coerce')\n",
    "\n",
    "# Group by date and calculate daily average wind speed\n",
    "daily_average = df_viteza.groupby(df_viteza['Data'].dt.date)[viteza_columns].mean()\n"
   ]
  },
  {
   "cell_type": "code",
   "execution_count": 149,
   "id": "9badd7ea-3693-4bc5-8048-7d340caa8544",
   "metadata": {
    "tags": []
   },
   "outputs": [],
   "source": [
    "daily_average.to_excel('data/ani_vant/2009.xlsx')"
   ]
  },
  {
   "cell_type": "markdown",
   "id": "ca029af5-ba3a-448d-a663-79c7fb485658",
   "metadata": {},
   "source": [
    "#### Use OpenAI API in order to map the region with the associated event"
   ]
  },
  {
   "cell_type": "code",
   "execution_count": 2,
   "id": "e8b313f4-e365-423d-9be5-842b60ee9ea0",
   "metadata": {
    "tags": []
   },
   "outputs": [],
   "source": [
    "df_news = pd.read_excel('data/data_preprocessed.xlsx')"
   ]
  },
  {
   "cell_type": "code",
   "execution_count": 3,
   "id": "bf77cbec-e54b-4e26-a9e7-bbdf5fc48da0",
   "metadata": {
    "tags": []
   },
   "outputs": [
    {
     "data": {
      "text/html": [
       "<div>\n",
       "<style scoped>\n",
       "    .dataframe tbody tr th:only-of-type {\n",
       "        vertical-align: middle;\n",
       "    }\n",
       "\n",
       "    .dataframe tbody tr th {\n",
       "        vertical-align: top;\n",
       "    }\n",
       "\n",
       "    .dataframe thead th {\n",
       "        text-align: right;\n",
       "    }\n",
       "</style>\n",
       "<table border=\"1\" class=\"dataframe\">\n",
       "  <thead>\n",
       "    <tr style=\"text-align: right;\">\n",
       "      <th></th>\n",
       "      <th>article_url</th>\n",
       "      <th>article_title</th>\n",
       "      <th>article_lead</th>\n",
       "      <th>article_text</th>\n",
       "      <th>article_date</th>\n",
       "    </tr>\n",
       "  </thead>\n",
       "  <tbody>\n",
       "    <tr>\n",
       "      <th>0</th>\n",
       "      <td>https://stirileprotv.ro/stiri/social/vezi-cum-...</td>\n",
       "      <td>Vezi cum va fi vremea pe continent si in tara ...</td>\n",
       "      <td>Temperaturi scazute in tara! - 10 grade Celsiu...</td>\n",
       "      <td>In Europa precipitatiile vor fi consistente in...</td>\n",
       "      <td>2009-02-19 17:24:00</td>\n",
       "    </tr>\n",
       "    <tr>\n",
       "      <th>1</th>\n",
       "      <td>https://stirileprotv.ro/stiri/social/vezi-cum-...</td>\n",
       "      <td>Vezi cum va fi vremea in urmatoarele trei zile!</td>\n",
       "      <td>Ziua de astazi va aduce inca un pic de ninsoar...</td>\n",
       "      <td>Maine se va insenina in nord-vest, in schimb a...</td>\n",
       "      <td>2009-02-19 17:24:00</td>\n",
       "    </tr>\n",
       "    <tr>\n",
       "      <th>2</th>\n",
       "      <td>https://stirileprotv.ro/stiri/social/vezi-aici...</td>\n",
       "      <td>Vezi aici cum va fi vremea in primele trei zil...</td>\n",
       "      <td>Incepem saptamana cu vreme rece, chiar geroasa...</td>\n",
       "      <td>In Europa, presiunea atmosferica se va mentine...</td>\n",
       "      <td>2009-02-19 17:25:00</td>\n",
       "    </tr>\n",
       "    <tr>\n",
       "      <th>3</th>\n",
       "      <td>https://stirileprotv.ro/stiri/social/vezi-aici...</td>\n",
       "      <td>Vezi aici cum va fi vremea pe continent si in ...</td>\n",
       "      <td>Pe continent precipitatiile vor fi indeosebi s...</td>\n",
       "      <td>Masa de aer rece, de origine polara se va depl...</td>\n",
       "      <td>2009-02-19 17:25:00</td>\n",
       "    </tr>\n",
       "    <tr>\n",
       "      <th>4</th>\n",
       "      <td>https://stirileprotv.ro/stiri/social/meteo-afl...</td>\n",
       "      <td>Meteo: afla cum va fi vremea in urmatoarele zi...</td>\n",
       "      <td>Cine a pariat pe primavara s-a cam grabit. Vre...</td>\n",
       "      <td>In Europa precipitatiile se concentreaza pe zo...</td>\n",
       "      <td>2009-02-19 17:27:00</td>\n",
       "    </tr>\n",
       "    <tr>\n",
       "      <th>...</th>\n",
       "      <td>...</td>\n",
       "      <td>...</td>\n",
       "      <td>...</td>\n",
       "      <td>...</td>\n",
       "      <td>...</td>\n",
       "    </tr>\n",
       "    <tr>\n",
       "      <th>7101</th>\n",
       "      <td>https://stirileprotv.ro/stiri/vremea/furtuni-u...</td>\n",
       "      <td>Ploi torentiale, vijelii si grindina in vest, ...</td>\n",
       "      <td>Meteorologii anunta, ca, pana joi dimineata, e...</td>\n",
       "      <td>In anumite zone din tara vantul va sufla cu pu...</td>\n",
       "      <td>2023-08-16 10:47:00</td>\n",
       "    </tr>\n",
       "    <tr>\n",
       "      <th>7102</th>\n",
       "      <td>https://stirileprotv.ro/stiri/vremea/alerta-de...</td>\n",
       "      <td>Avertisment de canicula in mai multe regiuni a...</td>\n",
       "      <td>Sudul si sud-estul tarii se va afla, de joi pa...</td>\n",
       "      <td>Astfel, in perioada 17 - 20 august 2023, va fi...</td>\n",
       "      <td>2023-08-17 08:22:00</td>\n",
       "    </tr>\n",
       "    <tr>\n",
       "      <th>7103</th>\n",
       "      <td>https://stirileprotv.ro/stiri/vremea/vremea-az...</td>\n",
       "      <td>Vremea azi, 17 august. Canicula in sud si in s...</td>\n",
       "      <td>Vremea se incalzeste, iar amiaza aduce canicul...</td>\n",
       "      <td>Aversele apar, local, la deal, la munte, de as...</td>\n",
       "      <td>2023-08-17 08:48:00</td>\n",
       "    </tr>\n",
       "    <tr>\n",
       "      <th>7104</th>\n",
       "      <td>https://stirileprotv.ro/stiri/vremea/vremea-az...</td>\n",
       "      <td>Vremea azi, 18 august. Disconfortul termic est...</td>\n",
       "      <td>Ziua de vineri ne aduce vreme foarte calda, ca...</td>\n",
       "      <td>Maximele pornesc de la 28 de grade pe litoral ...</td>\n",
       "      <td>2023-08-18 10:44:00</td>\n",
       "    </tr>\n",
       "    <tr>\n",
       "      <th>7105</th>\n",
       "      <td>https://stirileprotv.ro/stiri/vremea/vremea-az...</td>\n",
       "      <td>Vremea azi, 19 august. Disconfort termic ridic...</td>\n",
       "      <td>Ziua de astazi ne-aduce vreme calda, disconfor...</td>\n",
       "      <td>Maximele pleaca de la 28 de grade in sudul lit...</td>\n",
       "      <td>2023-08-19 11:09:00</td>\n",
       "    </tr>\n",
       "  </tbody>\n",
       "</table>\n",
       "<p>7106 rows × 5 columns</p>\n",
       "</div>"
      ],
      "text/plain": [
       "                                            article_url  \\\n",
       "0     https://stirileprotv.ro/stiri/social/vezi-cum-...   \n",
       "1     https://stirileprotv.ro/stiri/social/vezi-cum-...   \n",
       "2     https://stirileprotv.ro/stiri/social/vezi-aici...   \n",
       "3     https://stirileprotv.ro/stiri/social/vezi-aici...   \n",
       "4     https://stirileprotv.ro/stiri/social/meteo-afl...   \n",
       "...                                                 ...   \n",
       "7101  https://stirileprotv.ro/stiri/vremea/furtuni-u...   \n",
       "7102  https://stirileprotv.ro/stiri/vremea/alerta-de...   \n",
       "7103  https://stirileprotv.ro/stiri/vremea/vremea-az...   \n",
       "7104  https://stirileprotv.ro/stiri/vremea/vremea-az...   \n",
       "7105  https://stirileprotv.ro/stiri/vremea/vremea-az...   \n",
       "\n",
       "                                          article_title  \\\n",
       "0     Vezi cum va fi vremea pe continent si in tara ...   \n",
       "1       Vezi cum va fi vremea in urmatoarele trei zile!   \n",
       "2     Vezi aici cum va fi vremea in primele trei zil...   \n",
       "3     Vezi aici cum va fi vremea pe continent si in ...   \n",
       "4     Meteo: afla cum va fi vremea in urmatoarele zi...   \n",
       "...                                                 ...   \n",
       "7101  Ploi torentiale, vijelii si grindina in vest, ...   \n",
       "7102  Avertisment de canicula in mai multe regiuni a...   \n",
       "7103  Vremea azi, 17 august. Canicula in sud si in s...   \n",
       "7104  Vremea azi, 18 august. Disconfortul termic est...   \n",
       "7105  Vremea azi, 19 august. Disconfort termic ridic...   \n",
       "\n",
       "                                           article_lead  \\\n",
       "0     Temperaturi scazute in tara! - 10 grade Celsiu...   \n",
       "1     Ziua de astazi va aduce inca un pic de ninsoar...   \n",
       "2     Incepem saptamana cu vreme rece, chiar geroasa...   \n",
       "3     Pe continent precipitatiile vor fi indeosebi s...   \n",
       "4     Cine a pariat pe primavara s-a cam grabit. Vre...   \n",
       "...                                                 ...   \n",
       "7101  Meteorologii anunta, ca, pana joi dimineata, e...   \n",
       "7102  Sudul si sud-estul tarii se va afla, de joi pa...   \n",
       "7103  Vremea se incalzeste, iar amiaza aduce canicul...   \n",
       "7104  Ziua de vineri ne aduce vreme foarte calda, ca...   \n",
       "7105  Ziua de astazi ne-aduce vreme calda, disconfor...   \n",
       "\n",
       "                                           article_text         article_date  \n",
       "0     In Europa precipitatiile vor fi consistente in...  2009-02-19 17:24:00  \n",
       "1     Maine se va insenina in nord-vest, in schimb a...  2009-02-19 17:24:00  \n",
       "2     In Europa, presiunea atmosferica se va mentine...  2009-02-19 17:25:00  \n",
       "3     Masa de aer rece, de origine polara se va depl...  2009-02-19 17:25:00  \n",
       "4     In Europa precipitatiile se concentreaza pe zo...  2009-02-19 17:27:00  \n",
       "...                                                 ...                  ...  \n",
       "7101  In anumite zone din tara vantul va sufla cu pu...  2023-08-16 10:47:00  \n",
       "7102  Astfel, in perioada 17 - 20 august 2023, va fi...  2023-08-17 08:22:00  \n",
       "7103  Aversele apar, local, la deal, la munte, de as...  2023-08-17 08:48:00  \n",
       "7104  Maximele pornesc de la 28 de grade pe litoral ...  2023-08-18 10:44:00  \n",
       "7105  Maximele pleaca de la 28 de grade in sudul lit...  2023-08-19 11:09:00  \n",
       "\n",
       "[7106 rows x 5 columns]"
      ]
     },
     "execution_count": 3,
     "metadata": {},
     "output_type": "execute_result"
    }
   ],
   "source": [
    "df_news"
   ]
  },
  {
   "cell_type": "code",
   "execution_count": 48,
   "id": "9ffacf1f-4a74-40df-99d5-6112f88163d2",
   "metadata": {
    "tags": []
   },
   "outputs": [],
   "source": [
    "for day, group in grouped_by_day:\n",
    "    filename = f'group_{day}.csv'\n",
    "    group.to_csv(filename, index=False)"
   ]
  },
  {
   "cell_type": "code",
   "execution_count": 49,
   "id": "b5ed3518-b876-4b8d-b1b7-171cf487085b",
   "metadata": {
    "tags": []
   },
   "outputs": [],
   "source": [
    "combined_events_per_day = {}\n",
    "for day, group in grouped_by_day:\n",
    "    combined_events = {}  # To store the combined events for this day\n",
    "    for index, row in group.iterrows():\n",
    "        weather_events_str = row['weather_event']\n",
    "        weather_events = ast.literal_eval(weather_events_str)\n",
    "        for region, events in weather_events.items():\n",
    "            if region not in combined_events:\n",
    "                combined_events[region] = []\n",
    "            combined_events[region].extend(events)\n",
    "    \n",
    "    combined_events_per_day[day] = combined_events"
   ]
  },
  {
   "cell_type": "code",
   "execution_count": 50,
   "id": "141ecb1f-0dbe-4317-bd40-f45f3fcf3748",
   "metadata": {
    "tags": []
   },
   "outputs": [
    {
     "data": {
      "text/plain": [
       "{datetime.date(2009, 2, 22): {'Transilvania': ['Ninsori', 'Fulguieli'],\n",
       "  'Oltenia': ['Ninsori slabe'],\n",
       "  'Bucuresti': ['Vreme rece', 'Innorari temporare'],\n",
       "  'Muntenia': ['Innorari temporare', 'Fulguieli izolate']},\n",
       " datetime.date(2009, 2, 23): {'Dobrogea': ['Vreme insorita',\n",
       "   'Incalzire',\n",
       "   'Ploi',\n",
       "   'Lapovita'],\n",
       "  'Moldova': ['Moment insorit', 'Incalzire', 'Fulguieli'],\n",
       "  'Transilvania': ['Vreme rece',\n",
       "   'Fulgui',\n",
       "   'Ninsori',\n",
       "   'Fulguieli',\n",
       "   'Ninsori',\n",
       "   'Fulguieli'],\n",
       "  'Maramures': ['Vreme rece', 'Fulgui', 'Ninsori', 'Fulguieli'],\n",
       "  'Vest': ['Fulgui'],\n",
       "  'Centru': ['Ceata', 'Frig'],\n",
       "  'Sud-vest': ['Ceata', 'Soare', 'Fulgui'],\n",
       "  'Sud': ['Vreme rece', 'Fulgui'],\n",
       "  'Bucuresti': ['Vreme rece',\n",
       "   'Innorari temporare',\n",
       "   'Ceata',\n",
       "   'Innorari sporadice'],\n",
       "  'Munte': ['Ninsori rare', 'Soare', 'Ceata'],\n",
       "  'Muntenia': ['Fulguieli', 'Ceata'],\n",
       "  'Bucovina': ['Fulguieli', 'Fulguieli'],\n",
       "  'Banat': ['Fulguieli', 'Ninsori', 'Vant mai nervos'],\n",
       "  'Delta': ['Vant mai nervos'],\n",
       "  'Oltenia': ['Ceata']},\n",
       " datetime.date(2009, 2, 24): {'Dobrogea': ['Lapovita',\n",
       "   'Vant nervos',\n",
       "   'Vant puternic'],\n",
       "  'Moldova': ['Temperaturi modeste', 'Temperaturi negative'],\n",
       "  'Transilvania': ['Fulgui trecator',\n",
       "   'Atmosfera inchisa',\n",
       "   'Ninsoare slaba',\n",
       "   'Burnita'],\n",
       "  'Maramures': ['Fulgui trecator'],\n",
       "  'Vest': ['Fulgui putin', 'Temperaturi de pana la 5 grade'],\n",
       "  'Centru': ['Atmosfera rece si schimbatoare'],\n",
       "  'Sud-Vest': ['3-4 grade', 'Fulgi'],\n",
       "  'Sud': ['Ceata', 'Depuneri de chiciura'],\n",
       "  'Bucuresti': ['Dimineata rece', 'Maxima de 3 grade'],\n",
       "  'Munte': ['Incalzire usoara', 'Fulgui numai in masivele vestice'],\n",
       "  'Muntenia': ['Ceata', 'Depuneri de chiciura']},\n",
       " datetime.date(2009, 2, 25): {'Muntenia': ['Nori',\n",
       "   'Momente insorite',\n",
       "   'Ger',\n",
       "   'Ninsori slabe'],\n",
       "  'Moldova': ['Nori', 'Momente insorite', 'Fulguielile'],\n",
       "  'Bucovina': ['Nori', 'Ninsori slabe'],\n",
       "  'Transilvania': ['Nori', 'Ninsori', 'Intensificari ale vantului'],\n",
       "  'Maramures': ['Nori', 'Ninsori'],\n",
       "  'Vestul Romaniei': ['Nori', 'Momente insorite'],\n",
       "  'Centrul Romaniei': ['Ceata', 'Momente insorite'],\n",
       "  'Sud-vest': ['Temperaturi cresc', 'Zonele de munte'],\n",
       "  'Sudul tarii': ['Temperaturi de cel mult 4 grade', 'Ceata persistenta'],\n",
       "  'Bucuresti': ['Vreme rece', 'Innorari temporare', 'Cer noros', 'Vant slab'],\n",
       "  'Munte': ['Strat de zapada consistent', 'Ceata', 'Temperaturi fluctueaza'],\n",
       "  'Dobrogea': ['Ceata', 'Vant puternic'],\n",
       "  'Banat': ['Ninsori'],\n",
       "  'Oltenia': [],\n",
       "  'Crisana': ['Ninsori']},\n",
       " datetime.date(2009, 2, 26): {'Transilvania': ['Ninsori',\n",
       "   'Ninsoare slaba',\n",
       "   'Moment insorit',\n",
       "   'Temperaturi pozitive'],\n",
       "  'Crisana': ['Ninsori'],\n",
       "  'Maramures': ['Ninsori',\n",
       "   'Ninsoare slaba',\n",
       "   'Moment insorit',\n",
       "   'Temperaturi pozitive'],\n",
       "  'Dobrogea': ['Norii se mai imprastie', 'Vantul se domoleste'],\n",
       "  'Moldova': ['Vreme destul de placuta'],\n",
       "  'Bucovina': ['Se mai aduna ceva nori'],\n",
       "  'Tinuturile centrale': ['Ninge putin'],\n",
       "  'Sud-vest': ['Vreme schimbatoare',\n",
       "   'Innorari temporare',\n",
       "   'Maxime in crestere'],\n",
       "  'Sud': ['Vreme frumoasa', 'Maxime de 6 grade'],\n",
       "  'Bucuresti': ['Vreme mai buna', 'Se arata soarele', 'Incalzire usoara'],\n",
       "  'Munte': ['Ninge in special diseara', 'Strat de zapada masoara 60 cm']},\n",
       " datetime.date(2009, 2, 27): {'Dobrogea': ['Primavaratica'],\n",
       "  'Moldova': ['Atmosfera placuta', 'Calda'],\n",
       "  'Transilvania': ['Ninge'],\n",
       "  'Maramures': ['Ninge'],\n",
       "  'Banat': ['Ploaie', 'Lapovita', 'Polei'],\n",
       "  'Oltenia': ['Ninsoare'],\n",
       "  'Muntenia': ['Ninsoare'],\n",
       "  'Bucuresti': ['Soare cu nori'],\n",
       "  'Bucovina': ['Ninsoare'],\n",
       "  'Muntii Apuseni': ['Ninge', 'Intensificari ale vantului']},\n",
       " datetime.date(2009, 2, 28): {'Transilvania': ['Ninsori', 'Lapovita'],\n",
       "  'Muntenia': ['Fulguieli', 'Ploi'],\n",
       "  'Bucovina': ['Fulgi'],\n",
       "  'Bucuresti': ['Soare', 'Innorari sporadice'],\n",
       "  'Maramures': ['Ninsori'],\n",
       "  'Orientali': ['Ninsori']},\n",
       " datetime.date(2009, 3, 1): {'Crisana': ['Innorat', 'Ploaie', 'Ploi slabe'],\n",
       "  'Banat': ['Innorat',\n",
       "   'Ploaie',\n",
       "   'Ploi slabe',\n",
       "   'Maximele pornesc de la 4 grade'],\n",
       "  'Oltenia': ['Innorat', 'Ploaie'],\n",
       "  'Transilvania': ['Lapovita', 'Ploi slabe', 'Ploi slabe'],\n",
       "  'Muntenia': ['Lapovita', 'Ploi slabe'],\n",
       "  'Vest': ['Ploi slabe'],\n",
       "  'Sud-Vest': ['Ploi'],\n",
       "  'Dobrogea': ['Cer variabil', 'Innorari'],\n",
       "  'Moldova': ['Cer variabil', 'Ninsori'],\n",
       "  'Bucovina': ['Cer variabil'],\n",
       "  'Maramures': ['Cer variabil'],\n",
       "  'Vestul tarii': ['Soare din cand in cand', 'Ploaie slaba'],\n",
       "  'Zonele centrale': ['Cer temporar noros'],\n",
       "  'Sud-vest': ['Vreme insorita'],\n",
       "  'Sudul tarii': ['Vreme insorita'],\n",
       "  'Bucuresti': ['Cer variabil', 'Innorari sporadice'],\n",
       "  'Carpatii Occidentali': ['Precipitatii slabe',\n",
       "   'Innorari si precipitatii mixte'],\n",
       "  'Carpatii Meridionali': ['Lapovita si ninsoare',\n",
       "   'Innorari si precipitatii mixte'],\n",
       "  'Carpatii Orientali': ['Vreme buna'],\n",
       "  'Marea Mediterana': ['Ploi locale'],\n",
       "  'Peninsula Balcanica': ['Ploi locale'],\n",
       "  'Peninsula Scandinava': ['Ninsori']},\n",
       " datetime.date(2009, 3, 2): {'Banat': ['Ploaie'],\n",
       "  'Crisana': ['Ploaie'],\n",
       "  'Oltenia': ['Ploaie'],\n",
       "  'Transilvania': ['Lapovita', 'Norii se inmultesc'],\n",
       "  'Dobrogea': ['Nori rari', 'Vant moderat'],\n",
       "  'Moldova': ['Soare', 'Temperaturi scad'],\n",
       "  'Maramures': ['Norii se inmultesc'],\n",
       "  'Vest': ['Vreme inchisa', 'Ploi slabe'],\n",
       "  'Centru': ['Innorari temporare', 'Precipitatii mixte'],\n",
       "  'Sud-vest': ['Se raceste', 'Ploua slab'],\n",
       "  'Sud': ['Cer noros'],\n",
       "  'Bucuresti': ['Cer innorat', 'Intensificare vant'],\n",
       "  'Carpatii Occidentali': ['Innorari consistente', 'Precipitatii mixte'],\n",
       "  'Carpatii Meridionali': ['Innorari consistente', 'Precipitatii mixte'],\n",
       "  'Carpatii Orientali': ['Vreme mai buna']},\n",
       " datetime.date(2009, 3, 3): {'Transilvania': ['Ploi slabe', 'Lapovita'],\n",
       "  'Moldova': ['Cer variabil'],\n",
       "  'Bucuresti': ['Cer curatel', 'Cetate'],\n",
       "  'Muntenia': ['Cer curatel', 'Cetate'],\n",
       "  'Carpatii occidentali': ['Lapovita']},\n",
       " datetime.date(2009, 3, 4): {'Vest': ['Ploi slabe'],\n",
       "  'Sud-Vest': ['Ploi slabe'],\n",
       "  'Munte': ['Ploi slabe'],\n",
       "  'Muntenia': ['Vreme insorita', 'Temperaturi mai ridicate', 'Ploaie'],\n",
       "  'Oltenia': ['Vreme frumoasa', 'Temperaturi maricele', 'Ploaie'],\n",
       "  'Dobrogea': ['Ploi slabe', 'Moment insorit', 'Ploaie'],\n",
       "  'Banat': ['Vreme schimbatoare',\n",
       "   'Innorari temporare',\n",
       "   'Cativa stropi',\n",
       "   'Ploaie',\n",
       "   'Vant intens'],\n",
       "  'Transilvania': ['Vreme frumoasa', 'Temperaturi mai ridicate', 'Ploaie'],\n",
       "  'Maramures': ['Vreme buna', 'Posibilitate de ploaie slab'],\n",
       "  'Bucovina': ['Vreme buna', 'Posibilitate de ploaie slab'],\n",
       "  'Bucuresti': ['Vreme frumoasa', 'Temperaturi mai ridicate'],\n",
       "  'Moldova': ['Vreme frumoasa', 'Temperaturi mai ridicate'],\n",
       "  'Crisana': ['Vreme frumoasa', 'Temperaturi mai ridicate'],\n",
       "  'Carpatii Occidentali': ['Ploi izolate'],\n",
       "  'Carpatii Meridionali': ['Ploi izolate']},\n",
       " datetime.date(2009, 3, 5): {'Banat': ['Ploaie',\n",
       "   'Vant puternic',\n",
       "   'Ploi',\n",
       "   'Cod galben'],\n",
       "  'Curbura': ['Ploaie'],\n",
       "  'Oltenia': ['Ploaie', 'Ploi', 'Cod galben'],\n",
       "  'Muntenia': ['Ploaie', 'Ploi', 'Cod galben'],\n",
       "  'Transilvania': ['Ploaie', 'Vant puternic'],\n",
       "  'Nord': ['Ploaie'],\n",
       "  'Centru': ['Ploaie'],\n",
       "  'Sud': ['Ploaie'],\n",
       "  'Vest': ['Ploaie'],\n",
       "  'Munte': ['Lapovita', 'Ninsoare'],\n",
       "  'Carpatii Meridionali': ['Ploi', 'Cod galben']},\n",
       " datetime.date(2009, 3, 6): {'Muntenia': ['Ploi locale', 'Vreme calda'],\n",
       "  'Transilvania': ['Ploi slabe', 'Moment insorit'],\n",
       "  'Oltenia': ['Ploi sporadice', 'Maxime in crestere'],\n",
       "  'Bucovina': ['Ploi putine', 'Cer senin temporar'],\n",
       "  'Maramures': ['Ploi', 'Ninsori'],\n",
       "  'Bucuresti': ['Vreme inchisa', 'Ploi'],\n",
       "  'Carpati': ['Ploi', 'Ninsori']}}"
      ]
     },
     "execution_count": 50,
     "metadata": {},
     "output_type": "execute_result"
    }
   ],
   "source": [
    "combined_events_per_day"
   ]
  },
  {
   "cell_type": "code",
   "execution_count": null,
   "id": "dca4f8ae-f038-471c-b358-16f00416cabd",
   "metadata": {},
   "outputs": [],
   "source": []
  }
 ],
 "metadata": {
  "kernelspec": {
   "display_name": "Python 3 (ipykernel)",
   "language": "python",
   "name": "python3"
  },
  "language_info": {
   "codemirror_mode": {
    "name": "ipython",
    "version": 3
   },
   "file_extension": ".py",
   "mimetype": "text/x-python",
   "name": "python",
   "nbconvert_exporter": "python",
   "pygments_lexer": "ipython3",
   "version": "3.11.4"
  }
 },
 "nbformat": 4,
 "nbformat_minor": 5
}
