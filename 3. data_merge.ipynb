{
 "cells": [
  {
   "cell_type": "code",
   "execution_count": 2,
   "id": "16739074-2785-4a01-b91a-2b46f4750a1d",
   "metadata": {
    "tags": []
   },
   "outputs": [],
   "source": [
    "import pandas as pd\n",
    "import numpy as np\n",
    "import ast  # For safely evaluating string representations of dictionaries\n",
    "import json\n",
    "import re"
   ]
  },
  {
   "cell_type": "markdown",
   "id": "164c96aa-daa3-4a2f-b8a5-b5faa6620a87",
   "metadata": {},
   "source": [
    "#### Data loading"
   ]
  },
  {
   "cell_type": "code",
   "execution_count": 113,
   "id": "b29c2e33-beb5-4585-8fda-43f82af302ad",
   "metadata": {
    "tags": []
   },
   "outputs": [],
   "source": [
    "df_meteo = pd.read_excel('data/meteo_history.xlsx')"
   ]
  },
  {
   "cell_type": "code",
   "execution_count": 114,
   "id": "b625f6f0-0d03-4ed9-895a-37b016385782",
   "metadata": {
    "tags": []
   },
   "outputs": [],
   "source": [
    "# Function to convert strings to lists of dictionaries\n",
    "def convert_to_list_of_dicts(item):\n",
    "    try:\n",
    "        return json.loads(item.replace(\"'\", '\"'))\n",
    "    except (json.JSONDecodeError, AttributeError):\n",
    "        return []\n",
    "\n",
    "# Convert the strings in the 'region_phenomena' column to lists of dictionaries\n",
    "df_meteo['region_phenomena'] = df_meteo['region_phenomena'].apply(convert_to_list_of_dicts)"
   ]
  },
  {
   "cell_type": "code",
   "execution_count": 115,
   "id": "2a6b3fc7-aa80-4137-9c9f-15c9c63ff84f",
   "metadata": {
    "tags": []
   },
   "outputs": [],
   "source": [
    "df_meteo['article_date'] = pd.to_datetime(df_meteo['article_date'])"
   ]
  },
  {
   "cell_type": "markdown",
   "id": "0d615c43-2755-4442-9d9e-ca7e0501aff1",
   "metadata": {},
   "source": [
    "#### Group data by day - articles"
   ]
  },
  {
   "cell_type": "code",
   "execution_count": 116,
   "id": "3677f813-7ae3-4389-811d-eb69c378ddfb",
   "metadata": {
    "tags": []
   },
   "outputs": [],
   "source": [
    "grouped_by_day = df_meteo.groupby(df_meteo['article_date'].dt.date)"
   ]
  },
  {
   "cell_type": "code",
   "execution_count": 120,
   "id": "df253532-cb47-4b75-96d0-f766d34095a3",
   "metadata": {
    "tags": []
   },
   "outputs": [],
   "source": [
    "# Function to merge list of dictionaries for each region\n",
    "def merge_dicts(dicts):\n",
    "    result = {}\n",
    "    for d in dicts:\n",
    "        for key, value in d.items():\n",
    "            if key not in result:\n",
    "                result[key] = value\n",
    "            else:\n",
    "                # If the key exists, ensure the values are unique\n",
    "                result[key] = list(set(result[key] + value))\n",
    "    return [result]"
   ]
  },
  {
   "cell_type": "code",
   "execution_count": 121,
   "id": "85aa329e-63e8-432f-addf-bb28bc21b5ea",
   "metadata": {
    "tags": []
   },
   "outputs": [],
   "source": [
    "df_agg = df_meteo.groupby('article_date').agg({'region_phenomena': lambda x: merge_dicts([item for sublist in x for item in sublist])}).reset_index()"
   ]
  },
  {
   "cell_type": "code",
   "execution_count": 124,
   "id": "9ba76166-37ef-4081-b15a-cb2b14c7e54f",
   "metadata": {
    "tags": []
   },
   "outputs": [],
   "source": [
    "# Extract date only (excluding time) from the article_date column\n",
    "df_meteo['date_only'] = pd.to_datetime(df_meteo['article_date']).dt.date"
   ]
  },
  {
   "cell_type": "code",
   "execution_count": 125,
   "id": "823e038e-f4d8-4930-a64f-47643e6a3ccf",
   "metadata": {
    "tags": []
   },
   "outputs": [],
   "source": [
    "def merge_dicts_in_list(dict_list):\n",
    "    '''Merge dictionaries in a list'''\n",
    "    result = {}\n",
    "    for d in dict_list:\n",
    "        for key, value in d.items():\n",
    "            if key not in result:\n",
    "                result[key] = value\n",
    "            else:\n",
    "                for subkey, sublist in value.items():\n",
    "                    if subkey in result[key]:\n",
    "                        result[key][subkey] = list(set(result[key][subkey] + sublist))\n",
    "                    else:\n",
    "                        result[key][subkey] = sublist\n",
    "    return result"
   ]
  },
  {
   "cell_type": "code",
   "execution_count": 126,
   "id": "b09bdedb-da68-41ea-babd-82a6aea10554",
   "metadata": {
    "tags": []
   },
   "outputs": [],
   "source": [
    "def merge_grouped_dicts(dict_list):\n",
    "    combined_dict = {}\n",
    "    # Iterate through each dictionary in the list\n",
    "    for current_dict in dict_list:\n",
    "        # Iterate through each key-value pair in the dictionary\n",
    "        for key, value in current_dict.items():\n",
    "            # If the key doesn't exist in the combined dictionary, just add it\n",
    "            if key not in combined_dict:\n",
    "                combined_dict[key] = value\n",
    "            else:\n",
    "                # Ensure that the 'value' is a dictionary before attempting to merge\n",
    "                if isinstance(value, dict):\n",
    "                    for subkey, sublist in value.items():\n",
    "                        if subkey in combined_dict[key]:\n",
    "                            # Merge lists without checking for uniqueness\n",
    "                            combined_dict[key][subkey] = combined_dict[key][subkey] + sublist\n",
    "                        else:\n",
    "                            combined_dict[key][subkey] = sublist\n",
    "\n",
    "    return combined_dict"
   ]
  },
  {
   "cell_type": "code",
   "execution_count": 127,
   "id": "c9e424e8-0e4a-4583-84e3-52b016ffadd3",
   "metadata": {
    "tags": []
   },
   "outputs": [],
   "source": [
    "# First merge dictionaries within each list in the 'region_phenomena' column\n",
    "df_meteo['merged_phenomena'] = df_meteo['region_phenomena'].apply(merge_dicts_in_list)\n",
    "# Now group by date and merge again\n",
    "df_agg = df_meteo.groupby('date_only').agg({'merged_phenomena': merge_grouped_dicts}).reset_index()"
   ]
  },
  {
   "cell_type": "code",
   "execution_count": 128,
   "id": "9783a9bd-7e4f-4137-92a9-10aa2056b286",
   "metadata": {
    "tags": []
   },
   "outputs": [],
   "source": [
    "# Extract just the date\n",
    "df_meteo['date'] = pd.to_datetime(df_meteo['article_date']).dt.date\n",
    "\n",
    "# Explode the 'region_phenomena' column\n",
    "df_exploded = df_meteo.explode('region_phenomena')"
   ]
  },
  {
   "cell_type": "code",
   "execution_count": 131,
   "id": "aaae2db6-fb73-4e1f-9b4c-e3ddd25bf6e4",
   "metadata": {
    "tags": []
   },
   "outputs": [],
   "source": [
    "def extract_key(d):\n",
    "    if isinstance(d, dict) and d:\n",
    "        return list(d.keys())[0]\n",
    "    return None\n",
    "\n",
    "def extract_value(d):\n",
    "    if isinstance(d, dict) and d:\n",
    "        return list(d.values())[0]\n",
    "    return None\n",
    "\n",
    "df_exploded['region'] = df_exploded['region_phenomena'].apply(extract_key)\n",
    "df_exploded['phenomena'] = df_exploded['region_phenomena'].apply(extract_value)\n"
   ]
  },
  {
   "cell_type": "code",
   "execution_count": 132,
   "id": "63e8ae47-908d-44d4-8f97-2d77a2aa6aff",
   "metadata": {
    "tags": []
   },
   "outputs": [],
   "source": [
    "# Filter out rows where 'region_phenomena' is NaN or an empty dictionary after explosion\n",
    "df_exploded = df_exploded[df_exploded['region_phenomena'].notna() & df_exploded['region_phenomena'].astype(bool)]\n",
    "\n",
    "# Transform the dictionary into separate columns\n",
    "df_exploded['region'] = df_exploded['region_phenomena'].apply(lambda x: list(x.keys())[0])\n",
    "df_exploded['phenomena'] = df_exploded['region_phenomena'].apply(lambda x: list(x.values())[0])"
   ]
  },
  {
   "cell_type": "code",
   "execution_count": null,
   "id": "f24e0231-7c15-4792-8404-83de6ebd0244",
   "metadata": {
    "tags": []
   },
   "outputs": [],
   "source": [
    "# Drop unnecessary columns\n",
    "df_exploded.drop(['article_date', 'region_phenomena'], axis=1, inplace=True)\n",
    "\n",
    "# Group by date and region to aggregate phenomena\n",
    "grouped = df_exploded.groupby(['date', 'region'])['phenomena'].sum().reset_index()\n",
    "\n",
    "# Build the nested dictionary\n",
    "result_dict = {}\n",
    "for date, region, phenomena in grouped.values:\n",
    "    if date not in result_dict:\n",
    "        result_dict[date] = {}\n",
    "    result_dict[date][region] = phenomena\n",
    "\n",
    "print(result_dict)"
   ]
  },
  {
   "cell_type": "code",
   "execution_count": 134,
   "id": "5ac6b23d-bde3-4e2a-a6ee-978cc7fdf401",
   "metadata": {
    "tags": []
   },
   "outputs": [],
   "source": [
    "# Convert dictionary to DataFrame\n",
    "df_temp = pd.DataFrame(result_dict).T\n",
    "\n",
    "# Reset index to have date as a column\n",
    "df_temp = df_temp.reset_index()\n",
    "df_temp.rename(columns={\"index\": \"Date\"}, inplace=True)\n",
    "\n",
    "# Melt the DataFrame to have regions as a column\n",
    "df_melted = df_temp.melt(id_vars=\"Date\", \n",
    "                         var_name=\"Region\", \n",
    "                         value_name=\"Phenomena\")\n"
   ]
  },
  {
   "cell_type": "code",
   "execution_count": 135,
   "id": "4e5caa7b-ba32-4fa1-992f-1c8865a7b3d0",
   "metadata": {
    "tags": []
   },
   "outputs": [],
   "source": [
    "df = pd.DataFrame(list(result_dict.items()), columns=['date', 'region_phenomena'])"
   ]
  },
  {
   "cell_type": "code",
   "execution_count": 137,
   "id": "13f54e6a-549f-4ab8-a0b2-dc3ac05507cd",
   "metadata": {
    "tags": []
   },
   "outputs": [
    {
     "data": {
      "text/html": [
       "<div>\n",
       "<style scoped>\n",
       "    .dataframe tbody tr th:only-of-type {\n",
       "        vertical-align: middle;\n",
       "    }\n",
       "\n",
       "    .dataframe tbody tr th {\n",
       "        vertical-align: top;\n",
       "    }\n",
       "\n",
       "    .dataframe thead th {\n",
       "        text-align: right;\n",
       "    }\n",
       "</style>\n",
       "<table border=\"1\" class=\"dataframe\">\n",
       "  <thead>\n",
       "    <tr style=\"text-align: right;\">\n",
       "      <th></th>\n",
       "      <th>date</th>\n",
       "      <th>region_phenomena</th>\n",
       "    </tr>\n",
       "  </thead>\n",
       "  <tbody>\n",
       "    <tr>\n",
       "      <th>0</th>\n",
       "      <td>2009-02-19</td>\n",
       "      <td>{'Banat': ['Ninsori', 'Ninsoare', 'Ninsoare', ...</td>\n",
       "    </tr>\n",
       "    <tr>\n",
       "      <th>1</th>\n",
       "      <td>2009-02-20</td>\n",
       "      <td>{'Banat': [], 'Bucovina': ['Ninsoare', 'Vânt']...</td>\n",
       "    </tr>\n",
       "    <tr>\n",
       "      <th>2</th>\n",
       "      <td>2009-02-21</td>\n",
       "      <td>{'Banat': [], 'Bucovina': ['Ninsori', 'Ninsoar...</td>\n",
       "    </tr>\n",
       "    <tr>\n",
       "      <th>3</th>\n",
       "      <td>2009-02-22</td>\n",
       "      <td>{'Banat': ['Ninsoare', 'Caniculă'], 'Bucovina'...</td>\n",
       "    </tr>\n",
       "    <tr>\n",
       "      <th>4</th>\n",
       "      <td>2009-02-23</td>\n",
       "      <td>{'Banat': [], 'Bucovina': ['Ninsoare', 'Ninsor...</td>\n",
       "    </tr>\n",
       "    <tr>\n",
       "      <th>...</th>\n",
       "      <td>...</td>\n",
       "      <td>...</td>\n",
       "    </tr>\n",
       "    <tr>\n",
       "      <th>4376</th>\n",
       "      <td>2023-08-15</td>\n",
       "      <td>{'Banat': ['Averse'], 'Bucovina': ['Vreme inso...</td>\n",
       "    </tr>\n",
       "    <tr>\n",
       "      <th>4377</th>\n",
       "      <td>2023-08-16</td>\n",
       "      <td>{'Banat': ['Furtună', 'Vânt', 'Ploi', 'Grindin...</td>\n",
       "    </tr>\n",
       "    <tr>\n",
       "      <th>4378</th>\n",
       "      <td>2023-08-17</td>\n",
       "      <td>{'Banat': ['Averse', 'Grindină'], 'Bucovina': ...</td>\n",
       "    </tr>\n",
       "    <tr>\n",
       "      <th>4379</th>\n",
       "      <td>2023-08-18</td>\n",
       "      <td>{'Banat': ['Fulger', 'Trăsnet', 'Grindină'], '...</td>\n",
       "    </tr>\n",
       "    <tr>\n",
       "      <th>4380</th>\n",
       "      <td>2023-08-19</td>\n",
       "      <td>{'Banat': ['Furtună'], 'Bucovina': [], 'Crișan...</td>\n",
       "    </tr>\n",
       "  </tbody>\n",
       "</table>\n",
       "<p>4381 rows × 2 columns</p>\n",
       "</div>"
      ],
      "text/plain": [
       "            date                                   region_phenomena\n",
       "0     2009-02-19  {'Banat': ['Ninsori', 'Ninsoare', 'Ninsoare', ...\n",
       "1     2009-02-20  {'Banat': [], 'Bucovina': ['Ninsoare', 'Vânt']...\n",
       "2     2009-02-21  {'Banat': [], 'Bucovina': ['Ninsori', 'Ninsoar...\n",
       "3     2009-02-22  {'Banat': ['Ninsoare', 'Caniculă'], 'Bucovina'...\n",
       "4     2009-02-23  {'Banat': [], 'Bucovina': ['Ninsoare', 'Ninsor...\n",
       "...          ...                                                ...\n",
       "4376  2023-08-15  {'Banat': ['Averse'], 'Bucovina': ['Vreme inso...\n",
       "4377  2023-08-16  {'Banat': ['Furtună', 'Vânt', 'Ploi', 'Grindin...\n",
       "4378  2023-08-17  {'Banat': ['Averse', 'Grindină'], 'Bucovina': ...\n",
       "4379  2023-08-18  {'Banat': ['Fulger', 'Trăsnet', 'Grindină'], '...\n",
       "4380  2023-08-19  {'Banat': ['Furtună'], 'Bucovina': [], 'Crișan...\n",
       "\n",
       "[4381 rows x 2 columns]"
      ]
     },
     "execution_count": 137,
     "metadata": {},
     "output_type": "execute_result"
    }
   ],
   "source": [
    "df"
   ]
  },
  {
   "cell_type": "code",
   "execution_count": 136,
   "id": "273f348a-6496-4f0f-9ea2-2cfe492a0d9a",
   "metadata": {
    "tags": []
   },
   "outputs": [],
   "source": [
    "df_params = pd.read_excel('data/date_judete.xlsx')"
   ]
  },
  {
   "cell_type": "code",
   "execution_count": 295,
   "id": "210be893-6534-49cb-9d41-514a273028c0",
   "metadata": {
    "tags": []
   },
   "outputs": [],
   "source": [
    "df.to_excel('data/regiuni_data.xlsx')"
   ]
  },
  {
   "cell_type": "code",
   "execution_count": 308,
   "id": "c80ada5c-444a-4b08-b515-09ee0fbe3509",
   "metadata": {
    "tags": []
   },
   "outputs": [],
   "source": [
    "# Convert each dictionary in region_phenomena into a list of tuples\n",
    "df['region_tuples'] = df['region_phenomena'].apply(lambda x: list(x.items()))\n",
    "\n",
    "# Explode this list so each region has its own row\n",
    "df = df.explode('region_tuples', ignore_index=True)\n",
    "\n",
    "# Split each tuple into separate columns for region and phenomena\n",
    "df[['region', 'phenomena']] = pd.DataFrame(df['region_tuples'].tolist(), index=df.index)\n",
    "\n",
    "# Drop the original columns\n",
    "df = df.drop(columns=['region_phenomena', 'region_tuples'])\n",
    "\n",
    "# Filter out rows with empty phenomena lists\n",
    "df = df[df['phenomena'].astype(bool)]"
   ]
  },
  {
   "cell_type": "code",
   "execution_count": 311,
   "id": "901c85b0-89f2-4e0f-986c-2c5c1d544d28",
   "metadata": {
    "tags": []
   },
   "outputs": [],
   "source": [
    "df_meteo_params = pd.read_excel('data/date_jud.xlsx')"
   ]
  },
  {
   "cell_type": "code",
   "execution_count": 335,
   "id": "4e0bd558-0cdb-49e7-be65-42bc5d6e2574",
   "metadata": {
    "tags": []
   },
   "outputs": [],
   "source": [
    "df.reset_index(inplace=True)\n",
    "df_meteo_params.reset_index(inplace=True)"
   ]
  },
  {
   "cell_type": "code",
   "execution_count": 336,
   "id": "36fb1d8e-be5c-4dae-976d-dde3b79b8edc",
   "metadata": {
    "tags": []
   },
   "outputs": [],
   "source": [
    "df['date'] = pd.to_datetime(df['date'])\n",
    "df_meteo_params['date'] = pd.to_datetime(df_meteo_params['date'])"
   ]
  },
  {
   "cell_type": "code",
   "execution_count": 354,
   "id": "03e3b2b6-92e1-4f45-9785-268f6fba2683",
   "metadata": {
    "tags": []
   },
   "outputs": [],
   "source": [
    "df_concatenated = pd.merge(df, df_meteo_params, on=['date', 'region'])"
   ]
  },
  {
   "cell_type": "code",
   "execution_count": 365,
   "id": "656d0dfd-dfa6-40d6-ac0e-32d347d88ebf",
   "metadata": {
    "tags": []
   },
   "outputs": [],
   "source": [
    "df_concatenated = pd.read_excel('data/set_complet.xlsx')"
   ]
  },
  {
   "cell_type": "markdown",
   "id": "1cfa8f3a-58d6-4770-b016-a7e7315b5562",
   "metadata": {},
   "source": [
    "#### Convert string to list and remove duplicates"
   ]
  },
  {
   "cell_type": "code",
   "execution_count": 367,
   "id": "2377e54c-98f3-4dbb-be55-dd4dc0a001bf",
   "metadata": {
    "tags": []
   },
   "outputs": [],
   "source": [
    "def remove_duplicates_from_str_list(str_list):\n",
    "    # Convert string representation of list to actual list\n",
    "    actual_list = ast.literal_eval(str_list)\n",
    "    # Return list without duplicates while maintaining order\n",
    "    cleaned_list = []\n",
    "    for item in actual_list:\n",
    "        if item not in cleaned_list:\n",
    "            cleaned_list.append(item)\n",
    "    return cleaned_list"
   ]
  },
  {
   "cell_type": "code",
   "execution_count": null,
   "id": "55cc601a-6266-49a7-b32d-a2318fd6c84d",
   "metadata": {},
   "outputs": [],
   "source": [
    "df_concatenated['phenomena'] = df_concatenated['phenomena'].apply(remove_duplicates_from_str_list)"
   ]
  },
  {
   "cell_type": "markdown",
   "id": "1bf532d5-668b-4dbe-a123-9fb7cbb78008",
   "metadata": {},
   "source": [
    "#### Function to remove duplicates from a list"
   ]
  },
  {
   "cell_type": "code",
   "execution_count": 375,
   "id": "7396cc22-7b66-443d-b22d-423814665bcf",
   "metadata": {
    "tags": []
   },
   "outputs": [],
   "source": [
    "def remove_duplicates_from_actual_list(lst):\n",
    "    # Use dict.fromkeys() to preserve order and remove duplicates\n",
    "    return list(dict.fromkeys(lst))\n"
   ]
  },
  {
   "cell_type": "code",
   "execution_count": 458,
   "id": "88a359c2-ba6d-403b-8c6b-77483e0308b6",
   "metadata": {
    "tags": []
   },
   "outputs": [],
   "source": [
    "# Apply the function to the 'phenomena' column\n",
    "df_concatenated_levels['phenomena'] = df_concatenated_levels['phenomena'].apply(remove_duplicates_from_actual_list)"
   ]
  },
  {
   "cell_type": "code",
   "execution_count": 462,
   "id": "466fda9d-8c54-451b-9b20-7e54257bb81f",
   "metadata": {
    "tags": []
   },
   "outputs": [],
   "source": [
    "df_concatenated_levels['phenomena'] = df_concatenated_levels['phenomena'].apply(lambda x: [item for item in x if item != 'Avalanșă'])"
   ]
  },
  {
   "cell_type": "code",
   "execution_count": 463,
   "id": "371515d4-af21-4f70-9d1d-bae126bc4772",
   "metadata": {
    "tags": []
   },
   "outputs": [],
   "source": [
    "df_concatenated_levels.to_excel('data/set_complet_precip.xlsx')"
   ]
  },
  {
   "cell_type": "markdown",
   "id": "9ddcb3d6-de61-47c1-a20f-532bbc80cb76",
   "metadata": {},
   "source": [
    "#### Concatenate the Danube water levels with the data available data"
   ]
  },
  {
   "cell_type": "code",
   "execution_count": 391,
   "id": "8acdbc50-aea1-410c-aed8-1d596b5bb4c4",
   "metadata": {
    "tags": []
   },
   "outputs": [],
   "source": [
    "df_danube = pd.read_excel('data/Cotele apelor Dunarii 6pct_prel.xlsx')"
   ]
  },
  {
   "cell_type": "markdown",
   "id": "16d11995-b059-4b58-b3f5-42013ea68012",
   "metadata": {},
   "source": [
    "##### Compute the daily average of the water levels"
   ]
  },
  {
   "cell_type": "code",
   "execution_count": 403,
   "id": "52f207ce-499b-4644-be87-51a37d2e2b51",
   "metadata": {
    "tags": []
   },
   "outputs": [],
   "source": [
    "df_danube['water_average'] = df_danube.iloc[:, 1:].mean(axis = 1)\n",
    "df_danube.rename(columns = {'YMD': 'date'}, inplace=True)"
   ]
  },
  {
   "cell_type": "code",
   "execution_count": 411,
   "id": "00ed443a-1196-4147-bf13-19897fc8c7aa",
   "metadata": {
    "tags": []
   },
   "outputs": [],
   "source": [
    "df_danube['date'] = pd.to_datetime(df_danube['date'])"
   ]
  },
  {
   "cell_type": "code",
   "execution_count": 424,
   "id": "4886678a-6c15-4b75-ab54-7fb7635d8bd9",
   "metadata": {
    "tags": []
   },
   "outputs": [],
   "source": [
    "df_danube_copy = df_danube[['date', 'water_average']].copy()\n",
    "df_concatenated_levels = pd.merge(df_concatenated, df_danube_copy, on = 'date', how = 'left')\n",
    "df_concatenated_levels.drop('Unnamed: 0', axis = 1, inplace=True)"
   ]
  },
  {
   "cell_type": "code",
   "execution_count": 440,
   "id": "b98d2310-458f-47de-a608-cf68f488fd19",
   "metadata": {
    "tags": []
   },
   "outputs": [],
   "source": [
    "df_concatenated_levels.to_excel('data/set_complet_precip.xlsx')"
   ]
  },
  {
   "cell_type": "markdown",
   "id": "7a1977ac-c678-42a9-b6d7-ebe58411536c",
   "metadata": {},
   "source": [
    "#### Re-evaluate the dataset and maping phenomena"
   ]
  },
  {
   "cell_type": "code",
   "execution_count": 70,
   "id": "1ef09863-714d-4a93-a322-f8a47f26e7a5",
   "metadata": {
    "tags": []
   },
   "outputs": [],
   "source": [
    "df_phen = pd.read_excel('data/set_complet_curatat.xlsx')"
   ]
  },
  {
   "cell_type": "code",
   "execution_count": 71,
   "id": "06ac8af0-822d-468f-9310-683686b5a6ca",
   "metadata": {
    "tags": []
   },
   "outputs": [],
   "source": [
    "df_phen['phenomena'] = df_phen['phenomena'].apply(ast.literal_eval)"
   ]
  },
  {
   "cell_type": "code",
   "execution_count": 78,
   "id": "65d30e37-4012-4e3d-9850-f3e89a1c65fd",
   "metadata": {
    "tags": []
   },
   "outputs": [],
   "source": [
    "word_mapping = {\n",
    "    'Ninsori': 'Ninsoare',\n",
    "    'Ploi': 'Ploaie',\n",
    "    'Vant puternic': 'Vant',\n",
    "    'Vânt puternic': 'Vant',\n",
    "    'Vant mai activ': 'Vant',\n",
    "    'Ploi locale': 'Ploaie',\n",
    "    'Descărcare electrică':'Fulger',\n",
    "    'Descărcări electrice': 'Fulger',\n",
    "    'Vijelii': 'Vijelie',\n",
    "    'Furtuni': 'Furtuna',\n",
    "    'Vant intens': 'Vant',\n",
    "    'Descarcari electrice': 'Fulger',\n",
    "    'Intensificări ale vântului': 'Vant',\n",
    "    'Căderi de grindină': 'Grindina',\n",
    "    'Grindină': 'Grindina',\n",
    "    'Fenomene eletrice': 'Fulger', \n",
    "    'Ploi abundente': 'Ploaie',\n",
    "    'Ploi consistente': 'Ploaie',\n",
    "    'Ploi torentiale': 'Ploaie',\n",
    "    'Frecvente descărcări electrice': 'Fulger',\n",
    "    'Intensificări de scurtă durată ale vântului': 'Vant',\n",
    "    'Vânt intensificat': 'Vant',\n",
    "    'Ploi slabe': 'Ploaie',\n",
    "    'Ploi de scurta durata': 'Ploaie',\n",
    "    'Frecvente descarcari electrice': 'Fulger',\n",
    "    'Intensificari ale vantului cu aspect de vijelie': 'Vijelie',\n",
    "    'Caderi de grindina': 'Grindina',\n",
    "    'Caniculă': 'Canicula',\n",
    "    'Vânt intens': 'Vant',\n",
    "    'Căldură insuportabilă': 'Canicula',\n",
    "    'Fulgere' : 'Fulger',\n",
    "    'Intensificari de scurta durata ale vantului cu aspect de vijelie': 'Vijelie',\n",
    "    'Izolat grindină':'Grindina',\n",
    "    'Vânt activ': 'Vant',\n",
    "    'Averse locale': 'Averse',\n",
    "    'Averse zdravene': 'Averse',\n",
    "    'Vânt tare în zonele de munte': 'Vant',\n",
    "    'Averse torențiale': 'Averse',\n",
    "    'Strat consistent de zapada': 'Zapada',\n",
    "    'Strat consistent de zăpadă': 'Zapada',\n",
    "    'Ninsori': 'Ninsoare',\n",
    "    'Ploi': 'Ploaie',\n",
    "    'Ceața': 'Ceata',\n",
    "    'Fulguială': 'Ninsoare',\n",
    "    'Vânt': 'Vant',\n",
    "    'Câțiva stropi': 'Ploaie',\n",
    "    'Ninsori mixte': 'Ninsoare',\n",
    "    'Ceată': 'Ceata',\n",
    "    'Ceață': 'Ceata',\n",
    "    'Intensificări de vânt': 'Vant',\n",
    "    'Fenomene electrice': 'Fulger',\n",
    "    'Fulgi de zăpadă': 'Ninsoare',\n",
    "    'Fulguiei': 'Ninsoare',\n",
    "    'Precipitații mixte': 'Lapovita',\n",
    "    'Lapoviță': 'Lapovita',\n",
    "    'Ploaie slabă': 'Ploaie',\n",
    "    'Aversă': 'Averse',\n",
    "    'Averse cu descărcări electrice': 'Averse',\n",
    "    'Averse de ploaie': 'Averse',\n",
    "    'Căderi de ploaie': 'Ploaie',\n",
    "    'Rabufniri ale vântului': 'Vant',\n",
    "    'Posibil chiar vijelii': 'Vijelie',\n",
    "    'Porniri ale vantului': 'Vant',\n",
    "    'Vânt cu aspect de vijelie': 'Vijelie',\n",
    "    'Averse consistente': 'Averse',\n",
    "    'Temporar va ploua': 'Ploaie',\n",
    "    'Canitati importante de apa': 'Ploaie',\n",
    "    'Cantitati mai insemnate de apa': 'Ploaie',\n",
    "    'Canitati insemnate de apa': 'Ploaie',\n",
    "    'Vant in rafale':'Vant',\n",
    "    'Temperaturi ridicate':'Canicula',\n",
    "    'Posibile ploi': 'Ploaie',\n",
    "    'Ploi temporare': 'Ploaie',\n",
    "    'Ploi mixte cu lapoviță și polei': 'Lapovita',\n",
    "    'Ninsori mai linistite': 'Ninsoare',\n",
    "    'Ninsori abia in noaptea de sambata spre duminica': 'Ninsoare',\n",
    "    'Ninsori de-a lungul zilei': 'Ninsoare',\n",
    "    'Ninsori locale': 'Ninsoare',\n",
    "    'Ninsori troienite': 'Viscol',\n",
    "    'Ninsori viscolite': 'Viscol',\n",
    "    'Gero' : 'Ger',\n",
    "    'Ninsoare mixtă':'Ninsoare',\n",
    "    'Fulgi': 'Ninsoare',\n",
    "    'Fulguieli': 'Ninsoare',\n",
    "    'Ploi de vară': 'Ploaie',\n",
    "    'Răbufniri ale vântului': 'Vant',\n",
    "    'Porniri ale vântului': 'Vant',\n",
    "    'Ploaie torențială': 'Ploaie',\n",
    "    'Ploi torentiale': 'Ploaie',\n",
    "    'Cantități mari de apă': 'Ploaie',\n",
    "    'Precipitații slabe mixte': 'Lapovita',\n",
    "    'Vânt slab': 'Vant',\n",
    "    'Intensificări de scurtă durată': 'Vant',\n",
    "    'Ploi insemnate cantitativ': 'Ploaie',\n",
    "    'Ploi însemnate cantitaiv': 'Ploaie',\n",
    "    'Averse cu fenomene electrice': 'Fulger',\n",
    "    'Vreme foarte caldă': 'Canicula',\n",
    "    'Atmosferă înăbușitoare': 'Canicula',\n",
    "    'Ninsori abundente': 'Ninsori',\n",
    "    'Mixt': 'Lapovita',\n",
    "    'Precipitații slabe mixte': 'Lapovita',\n",
    "    'ITU critic de 80': 'Canicula',\n",
    "    'Posibile condiții de grindină': 'Grindina',\n",
    "    'Grindină': 'Grindina',\n",
    "    'Aversă torențială': 'Averse',\n",
    "    'Precipitatii mixte': 'Lapovita',\n",
    "    'Precipitatii salbe mixte': 'Lapovita',\n",
    "    'Depuneri de polei': 'Polei',\n",
    "    'Averse torentiale': 'Averse',\n",
    "    'Ploi cu caracter de aversă': 'Ploaie',\n",
    "    'Vant moderat':' Vant',\n",
    "    'Vant nervos': 'Vant',\n",
    "    'Ploi slabe cantitativ': 'Ploaie',\n",
    "    'Ploi moderate cantitativ': 'Ploaie',\n",
    "    'Posibil grindină': 'Grindina',\n",
    "    'Rafale de vânt': 'Vant',\n",
    "    'Intensificari ale vantului': 'Vant',\n",
    "    'Vânt moderat': 'Vant',\n",
    "    'Vânt scurt intensificat': 'Vant',\n",
    "    'Temperaturi maxime record': 'Canicula',\n",
    "    'Ploi zgomotoase': 'Ploaie',\n",
    "    'Averse cu fulgere și vânt': 'Averse',\n",
    "    'Intensificari de scurta durata ale vantului': 'Vant',\n",
    "    'Izolat grindina':'Grindina',\n",
    "    'Vant activ':'Vant',\n",
    "    'Ploi rapide de vara':'Ploaie',\n",
    "    'Ploi torențiale': 'Ploaie',\n",
    "    'Ploi rapide de vară': 'Ploaie',\n",
    "    'Ploi trecatoare': 'Ploaie',\n",
    "    'Vânt moderat': 'Vant',\n",
    "    'Cantități mai mari de apă': 'Ploaie',\n",
    "    'Probabil grindină': 'Grindina',\n",
    "    'Condiții de ploaie': 'Ploaie',\n",
    "    'Fenomene de polei': 'Polei',\n",
    "    'Precipitații sub formă de lapoviță și ninsoare': 'Lapovita',\n",
    "    'Ploi pe suprafețe restrânse': 'Ploaie',\n",
    "    'Picură din loc în loc': 'Ploaie',\n",
    "    'Precipitații slabe, mixte': 'Lapovita',\n",
    "    'Ploi izolate': 'Ploaie',\n",
    "    'Ploi peste medie': 'Ploaie',\n",
    "    'Averse slabe': 'Averse',\n",
    "    'Vant cu rabufniri': 'Vant',\n",
    "    'Ploi in zona de munte': 'Ploaie',\n",
    "    'Ploi de vara':'Ploaie',\n",
    "    'Averse isotite':'Averse',\n",
    "    'Averse sporadice':'Averse',\n",
    "    'Averse cu fulgere, vânt și grindină':'Averse',\n",
    "    'Averse posibil torentiale':'Averse',\n",
    "    'Ploi razlete':'Ploaie',\n",
    "    'Ploi de scurtă durată':'Ploaie',\n",
    "    'Ploi locale și temporare':'Ploaie',\n",
    "    'Ploi serioase':'Ploaie',\n",
    "    'Ploi sporadice':'Ploaie',\n",
    "    'Averse locale spre seară':'Averse',\n",
    "    'Formare de polei':'Polei',\n",
    "    'Ninsori sporadice':'Ninsoare',\n",
    "    'Ninsori slabe':'Ninsoare',\n",
    "    'Ninsoare slabă':'Ninsoare',\n",
    "    'Vant rece':'Vant',\n",
    "    'Ninsoare slabă':'Ninsoare',\n",
    "    'Ninsori slabe':'Ninsoare',\n",
    "    'Fulguieli izolate':'Ninsoare',\n",
    "    'Vant mai intens':'Vant',\n",
    "    'Ninsoare slabă': 'Ninsoare',\n",
    "    'Burniță/Fulguială': 'Burnita',\n",
    "    'Burniță': 'Burnita',\n",
    "    'Fulgi de zapada': 'Ninsoare',\n",
    "    'Ninsori și lapoviță în seara și noaptea de vineri spre sâmbătă': 'Ninsoare',\n",
    "    'Șanse reduse de ploaie': 'Ploaie',\n",
    "    'Ploi în mai multe reprize': 'Ploaie',\n",
    "    'Vant intensificat': 'Vant',\n",
    "    'Valuri uriase': 'Valuri',\n",
    "    'Descarcări electrice': 'Fulger',\n",
    "    'Intensificări ale vântului cu aspect de vijelie': 'Vant',\n",
    "    'Caldură insuportabilă': 'Canicula',\n",
    "    'Disconfort termic foarte mare': 'Canicula',\n",
    "    'Ploi trecătoare': 'Ploaie',\n",
    "    'Disconfort termic ridicat': 'Canicula',\n",
    "    'Caldură': 'Caldura',\n",
    "    'Căldură': 'Caldura',\n",
    "    'Temperaturi record': 'Canicula',\n",
    "    'Averse cu descarcari electrice': 'Fulger',\n",
    "    'Vant mai nervos': 'Vant',\n",
    "    'Cod galben de caniculă':'Canicula',\n",
    "    'Cod portocaliu de caniculă': 'Canicula',\n",
    "    'Intensificări temporare ale vântului': 'Vant',\n",
    "    'Ploi locale în Muntii Banatului': 'Ploaie',\n",
    "    'Pericol de ploi moderate cantitativ': 'Ploaie',\n",
    "    'Cod portocaliu: Vânt puternic și zăpadă troienită': 'Viscol',\n",
    "    'Cod galben: Intensificări ale vântului și zăpadă spulberată':'Viscol',\n",
    "    'Cod galben: Intensificări ale vântului și ninsori moderate cantitativ și viscolite':'Viscol',\n",
    "    'Ploaie cu lapoviță': 'Lapovita',\n",
    "    'Ninsori moderate cantitativ': 'Ninsoare',\n",
    "    'Ceată densă': 'Ceata',\n",
    "    'Cod galben de vânt intens': 'Vijelie',\n",
    "    'Vânt mai insistent': 'Vant',\n",
    "    'Izolat cu aspect de vijelie':'Vijelie',\n",
    "    'Ploi de scurtă durată': 'Ploaie',\n",
    "    'Rabufniri de vânt': 'Vant',\n",
    "    'Rabufniri ale vantului': 'Vant',\n",
    "    'Izolat de grindină': 'Grindina',\n",
    "    'Cod portocaliu de inundatii': 'Inundatie',\n",
    "    'Inundație': 'Inundatie',\n",
    "    'Cod galben de inundatie': 'Inundatie',\n",
    "    'Ploi mai zgomotoase': 'Ploaie',\n",
    "    'Căldură toropitoare': 'Canicula',\n",
    "    'Intensificari de vant': 'Vant',\n",
    "    'Vânt insistent': 'Vant',\n",
    "    'Ploi mixte cu polei': 'Polei',\n",
    "    'Burnită': 'Burnita',\n",
    "    'Burniță':'Burnita',\n",
    "    'Burnița': 'Burnita',\n",
    "    'Vant insistent': 'Vant',\n",
    "    'Intensificări de scurtă durată ale vântului cu aspect de vijelie': 'Vijelie',\n",
    "    'Intensificări puternice ale vântului cu aspect de vijelie': 'Vijelie',\n",
    "    'Inundație': 'Inundatie',\n",
    "    'Posibil vijelii': 'Vijelie',\n",
    "    'Însorit': 'Vreme buna',\n",
    "    'Vreme frumoasă': 'Vreme buna',\n",
    "    'Vreme calda': 'Vreme buna',\n",
    "    'Vreme caldă': 'Vreme buna',\n",
    "    'Temperaturi în creștere': 'Vreme buna',\n",
    "    'Averse cu fulgere': 'Fulger',\n",
    "    'Stres termic': 'Canicula',\n",
    "    'Racoare': 'Vreme rece',\n",
    "    'Vânt nervos': 'Vant',\n",
    "    'Răcire accentuată': 'Vreme rece',\n",
    "    'Fulguieri': 'Ninsoare',\n",
    "    'Înnorat': 'Innorat',\n",
    "    'Temperaturi modeste': 'Vreme rece',\n",
    "    'Vreme instabilă': 'Precipitatii',\n",
    "    'Instabilitate atmosferică': 'Instabilitate atmosferica',\n",
    "    'Viitură': 'Inundatie',\n",
    "    'Averse cu tunete și fulgere': 'Fulger',\n",
    "    'Averse trecatoare': 'Averse',\n",
    "    'Mixtă': 'Lapovita',\n",
    "    'Innorări persistente': 'Innorari',\n",
    "    'Vreme insorită': 'Vreme buna',\n",
    "    'Disconfort termic accentuat': 'Canicula',\n",
    "    'Innorări trecătoare': 'Innorari',\n",
    "    'Cer noros': 'Innorari',\n",
    "    'Cer acoperit': 'Innorari', \n",
    "    'Vreme placuta': 'Vreme buna',\n",
    "    'Frecvente descarcări electrice': 'Fulger',\n",
    "    'Scădere temperaturi': 'Vreme rece',\n",
    "    'Innorari temporare': 'Innorari',\n",
    "    'Vreme plăcută': 'Vreme buna',\n",
    "    'Izolat vijelii': 'Vijelie',\n",
    "    'Instabilitate atmosferică temporar accentuată': 'Instabilitate atmosferica',\n",
    "    'Vreme inchisa': 'Innorari',\n",
    "    'Zăpadă spulberată': 'Viscol',\n",
    "    'Temperaturi negative': 'Vreme rece',\n",
    "    'Innorări temporare': 'Innorari',\n",
    "    'Încălzire': 'Vreme buna',\n",
    "    'Precipitații moderate': 'Precipitatii',\n",
    "    'Precipitații excedentare': 'Precipitatii',\n",
    "    'Vreme frumoasa':'Vreme buna',\n",
    "    'Înnorări': 'Innorari',\n",
    "    'Caldura': 'Canicula',\n",
    "    'Ghețuș': 'Polei',\n",
    "    'Vreme insorita':'Vreme buna',\n",
    "    'Caderi de grindină': 'Grindina',\n",
    "    'Vreme bună': 'Vreme buna',\n",
    "    'Vreme insorita': 'Vreme buna',\n",
    "    'Instabilitate atmosferică accentuată': 'Instabilitate atmosferica',\n",
    "    'Incalzire': 'Vreme buna',\n",
    "    'Racire': 'Vreme rece',\n",
    "    'Zapada': 'Ninsoare',\n",
    "    'Temperaturi scăzute': 'Vreme rece',\n",
    "    'Vreme caldă': 'Vreme buna',\n",
    "    'Zăpadă': 'Ninsoare',\n",
    "    'Nori': 'Innorari',\n",
    "    'Frig': 'Vreme rece',\n",
    "    'Innorări': 'Innorari',\n",
    "    'Disconfort termic': 'Canicula',\n",
    "    'Precipitații slabe': 'Precipitatii',\n",
    "    'Soare': 'Vreme buna',\n",
    "    'Precipitații': 'Precipitatii',\n",
    "    'Instabilitate atmosferică': 'Instabilitate atmosferica',\n",
    "    'Vreme frumoasă': 'Vreme buna',\n",
    "    'Innorat': 'Innorari',\n",
    "    'Răcire': 'Vreme rece',\n",
    "    'Instabilitate': 'Instabilitate atmosferica',\n",
    "    'Negură': 'Ceata',\n",
    "    'Gheață': 'Polei',\n",
    "    'instabilitate atmosferica': 'Instabilitate atmosferica'\n",
    "    \n",
    "    # Add other mappings as required\n",
    "}\n",
    "\n",
    "#ramas ianuarie 2015\n",
    "\n",
    "def process_word_list(phenomena_list):\n",
    "    # Map words using the word_mapping dictionary\n",
    "    processed_list = [word_mapping.get(word, word) for word in phenomena_list]\n",
    "    # Remove duplicates while preserving order\n",
    "    return list(dict.fromkeys(processed_list))\n",
    "\n",
    "\n",
    "\n",
    "# Apply the function to the phenomena column\n",
    "df_phen['phenomena'] = df_phen['phenomena'].apply(process_word_list)"
   ]
  },
  {
   "cell_type": "markdown",
   "id": "c43d11cc-05f5-4e5e-ae0b-805822a2d262",
   "metadata": {},
   "source": [
    "### Get rid of the unnecessary phenomena"
   ]
  },
  {
   "cell_type": "code",
   "execution_count": 79,
   "id": "02648084-d290-47c1-93c4-4d43c2fff759",
   "metadata": {
    "tags": []
   },
   "outputs": [],
   "source": [
    "data_exploded = df_phen.copy()\n",
    "data_exploded = data_exploded.explode('phenomena')"
   ]
  },
  {
   "cell_type": "code",
   "execution_count": null,
   "id": "fd9d3aad-a3ea-46fa-ace4-a507153d6a25",
   "metadata": {},
   "outputs": [],
   "source": [
    "# Counting occurrences for each phenomenon\n",
    "phenomena_counts = data_exploded['phenomena'].value_counts()\n",
    "\n",
    "# Identifying phenomena with less than 10 occurrences\n",
    "rare_phenomena = phenomena_counts[phenomena_counts < 10].index\n",
    "\n",
    "# Filtering out the rare phenomena from the exploded dataframe\n",
    "data_filtered = data_exploded[~data_exploded['phenomena'].isin(rare_phenomena)]\n",
    "\n",
    "data_filtered['phenomena'].value_counts()"
   ]
  },
  {
   "cell_type": "code",
   "execution_count": null,
   "id": "11ef9939-36ab-4fae-8f16-f970cfd6466e",
   "metadata": {},
   "outputs": [],
   "source": [
    "# List of phenomena to be removed\n",
    "remove_phenomena = ['Uragan', 'Alunecare', 'Cod galben', 'Cod portocaliu', 'Eroziune', 'Cutremur']\n",
    "\n",
    "# Filtering the exploded dataset\n",
    "filtered_data_remove_outliers = data_filtered[~data_filtered['phenomena'].isin(remove_phenomena)]\n",
    "\n",
    "# Checking the updated dataset\n",
    "filtered_data_remove_outliers['phenomena'].value_counts()"
   ]
  },
  {
   "cell_type": "code",
   "execution_count": null,
   "id": "5023c8bd-77ca-4512-8c9f-6411f721bce5",
   "metadata": {},
   "outputs": [],
   "source": [
    "df_phen = filtered_data_remove_outliers.groupby(['date', 'region', 'county', 'pm10_quality', 'air_pressure', 'temperature',\n",
    "                                      'humidity']\n",
    "                                     ).agg({'phenomena': list}).reset_index()"
   ]
  },
  {
   "cell_type": "markdown",
   "id": "7ee86543-c68e-4ca2-8394-ecded183aa73",
   "metadata": {},
   "source": [
    "### Translate every phenomenon in English"
   ]
  },
  {
   "cell_type": "code",
   "execution_count": 84,
   "id": "9c47db28-f778-4039-b17d-aa266cc9ec67",
   "metadata": {
    "tags": []
   },
   "outputs": [],
   "source": [
    "weather_translation = {\n",
    "    'Ninsoare': 'Snow',\n",
    "    'Vant': 'Wind',\n",
    "    'Ploaie': 'Rain',\n",
    "    'Lapovita': 'Sleet',\n",
    "    'Inundatie': 'Flood',\n",
    "    'Ceata': 'Fog',\n",
    "    'Ger': 'Frost',\n",
    "    'Viscol': 'Blizzard',\n",
    "    'Polei': 'Freezing rain',\n",
    "    'Fulger': 'Lightning',\n",
    "    'Innorari': 'Cloudiness',\n",
    "    'Vreme rece': 'Cold weather',\n",
    "    'Burnita': 'Drizzle',\n",
    "    'Cer variabil': 'Variable sky',\n",
    "    'Cer senin': 'Clear sky',\n",
    "    'Vreme buna': 'Good weather',\n",
    "    'Precipitatii': 'Precipitation',\n",
    "    'Vijelie': 'Whirlwind',\n",
    "    'Canicula': 'Heatwave',\n",
    "    'Averse': 'Showers',\n",
    "    'Furtună': 'Storm',\n",
    "    'Grindina': 'Hail',\n",
    "    'Tunete': 'Thunder',\n",
    "    'Secetă': 'Drought',\n",
    "    'Vreme schimbătoare': 'Changeable weather',\n",
    "    'Instabilitate atmosferica': 'Atmospheric instability',\n",
    "    'Ciclon': 'Cyclone',\n",
    "    'Chiciură': 'Rime',\n",
    "    'Trăsnet': 'Thunderbolt',\n",
    "    'Tunet': 'Thunder',\n",
    "    'Brumă': 'Frost',\n",
    "    'Incendii': 'Fires',\n",
    "    'Ploaie înghețată': 'Frozen rain',\n",
    "    'Tornadă': 'Tornado'\n",
    "}\n",
    "\n",
    "def translate_word_list(phenomena_list):\n",
    "    # Map words using the weather_translation dictionary\n",
    "    processed_list = [weather_translation.get(word, word) for word in phenomena_list]\n",
    "    # Remove duplicates while preserving order\n",
    "    return list(dict.fromkeys(processed_list))\n",
    "\n",
    "# Apply the function to the phenomena column\n",
    "df_phen['phenomena'] = df_phen['phenomena'].apply(translate_word_list)"
   ]
  },
  {
   "cell_type": "code",
   "execution_count": 86,
   "id": "87ce40c5-f259-4fe5-a6be-15e2df3a6fba",
   "metadata": {
    "tags": []
   },
   "outputs": [],
   "source": [
    "df_phen.to_excel('data/set_complet_curatat_tradus.xlsx', index=False)"
   ]
  },
  {
   "cell_type": "code",
   "execution_count": 145,
   "id": "bf186a83-a4ff-48aa-ae90-8bddb5b840c0",
   "metadata": {
    "tags": []
   },
   "outputs": [],
   "source": [
    "coords = pd.read_excel('data/coordonate.xlsx')"
   ]
  },
  {
   "cell_type": "code",
   "execution_count": 146,
   "id": "eaea98d8-d835-45b4-8c24-aa237f8998a2",
   "metadata": {
    "tags": []
   },
   "outputs": [
    {
     "data": {
      "text/html": [
       "<div>\n",
       "<style scoped>\n",
       "    .dataframe tbody tr th:only-of-type {\n",
       "        vertical-align: middle;\n",
       "    }\n",
       "\n",
       "    .dataframe tbody tr th {\n",
       "        vertical-align: top;\n",
       "    }\n",
       "\n",
       "    .dataframe thead th {\n",
       "        text-align: right;\n",
       "    }\n",
       "</style>\n",
       "<table border=\"1\" class=\"dataframe\">\n",
       "  <thead>\n",
       "    <tr style=\"text-align: right;\">\n",
       "      <th></th>\n",
       "      <th>county</th>\n",
       "      <th>lat</th>\n",
       "      <th>long</th>\n",
       "    </tr>\n",
       "  </thead>\n",
       "  <tbody>\n",
       "    <tr>\n",
       "      <th>0</th>\n",
       "      <td>TM</td>\n",
       "      <td>45.66667</td>\n",
       "      <td>21.50000</td>\n",
       "    </tr>\n",
       "    <tr>\n",
       "      <th>1</th>\n",
       "      <td>CT</td>\n",
       "      <td>44.25000</td>\n",
       "      <td>28.33333</td>\n",
       "    </tr>\n",
       "    <tr>\n",
       "      <th>2</th>\n",
       "      <td>IS</td>\n",
       "      <td>47.25000</td>\n",
       "      <td>27.25000</td>\n",
       "    </tr>\n",
       "    <tr>\n",
       "      <th>3</th>\n",
       "      <td>B</td>\n",
       "      <td>44.50000</td>\n",
       "      <td>26.08333</td>\n",
       "    </tr>\n",
       "    <tr>\n",
       "      <th>4</th>\n",
       "      <td>DJ</td>\n",
       "      <td>44.16667</td>\n",
       "      <td>23.75000</td>\n",
       "    </tr>\n",
       "    <tr>\n",
       "      <th>5</th>\n",
       "      <td>CJ</td>\n",
       "      <td>46.64944</td>\n",
       "      <td>23.81836</td>\n",
       "    </tr>\n",
       "    <tr>\n",
       "      <th>6</th>\n",
       "      <td>BV</td>\n",
       "      <td>45.75000</td>\n",
       "      <td>25.33333</td>\n",
       "    </tr>\n",
       "  </tbody>\n",
       "</table>\n",
       "</div>"
      ],
      "text/plain": [
       "  county       lat      long\n",
       "0     TM  45.66667  21.50000\n",
       "1     CT  44.25000  28.33333\n",
       "2     IS  47.25000  27.25000\n",
       "3      B  44.50000  26.08333\n",
       "4     DJ  44.16667  23.75000\n",
       "5     CJ  46.64944  23.81836\n",
       "6     BV  45.75000  25.33333"
      ]
     },
     "execution_count": 146,
     "metadata": {},
     "output_type": "execute_result"
    }
   ],
   "source": [
    "coords"
   ]
  },
  {
   "cell_type": "code",
   "execution_count": 149,
   "id": "d2cd7458-2fdc-4a14-9468-0f09fed65e0e",
   "metadata": {
    "tags": []
   },
   "outputs": [
    {
     "data": {
      "text/html": [
       "<div>\n",
       "<style scoped>\n",
       "    .dataframe tbody tr th:only-of-type {\n",
       "        vertical-align: middle;\n",
       "    }\n",
       "\n",
       "    .dataframe tbody tr th {\n",
       "        vertical-align: top;\n",
       "    }\n",
       "\n",
       "    .dataframe thead th {\n",
       "        text-align: right;\n",
       "    }\n",
       "</style>\n",
       "<table border=\"1\" class=\"dataframe\">\n",
       "  <thead>\n",
       "    <tr style=\"text-align: right;\">\n",
       "      <th></th>\n",
       "      <th>date</th>\n",
       "      <th>region</th>\n",
       "      <th>phenomena</th>\n",
       "      <th>county</th>\n",
       "      <th>42i - NO2_Valoare [µg/m³]</th>\n",
       "      <th>43i - SO2_Valoare [µg/m³]</th>\n",
       "      <th>48i - CO_Valoare [mg/m³]</th>\n",
       "      <th>GRAV. 10 - PM 10_Valoare [µg/m³]</th>\n",
       "      <th>GRAV. 2.5 - PM 2.5_Valoare [µg/m³]</th>\n",
       "      <th>MTX - Presiunea aerului_Valoare [mbar]</th>\n",
       "      <th>MTX - Temperatura aer_Valoare [°C]</th>\n",
       "      <th>MTX - Umiditate relativa_Valoare [%]</th>\n",
       "      <th>water_average</th>\n",
       "      <th>lat</th>\n",
       "      <th>long</th>\n",
       "    </tr>\n",
       "  </thead>\n",
       "  <tbody>\n",
       "    <tr>\n",
       "      <th>0</th>\n",
       "      <td>2009-02-19</td>\n",
       "      <td>Banat</td>\n",
       "      <td>[Ninsoare, Vant, Alunecare]</td>\n",
       "      <td>TM</td>\n",
       "      <td>NaN</td>\n",
       "      <td>NaN</td>\n",
       "      <td>NaN</td>\n",
       "      <td>51.630000</td>\n",
       "      <td>19.98</td>\n",
       "      <td>995.400</td>\n",
       "      <td>-4.095</td>\n",
       "      <td>85.50</td>\n",
       "      <td>NaN</td>\n",
       "      <td>45.66667</td>\n",
       "      <td>21.50000</td>\n",
       "    </tr>\n",
       "    <tr>\n",
       "      <th>1</th>\n",
       "      <td>2009-02-19</td>\n",
       "      <td>Dobrogea</td>\n",
       "      <td>[Ploaie, Lapovita, Vant, Ninsoare, Inundatie, ...</td>\n",
       "      <td>CT</td>\n",
       "      <td>NaN</td>\n",
       "      <td>NaN</td>\n",
       "      <td>NaN</td>\n",
       "      <td>21.520000</td>\n",
       "      <td>NaN</td>\n",
       "      <td>1005.875</td>\n",
       "      <td>6.745</td>\n",
       "      <td>96.75</td>\n",
       "      <td>NaN</td>\n",
       "      <td>44.25000</td>\n",
       "      <td>28.33333</td>\n",
       "    </tr>\n",
       "    <tr>\n",
       "      <th>2</th>\n",
       "      <td>2009-02-19</td>\n",
       "      <td>Moldova</td>\n",
       "      <td>[Ninsoare, Ger, Ploaie, Lapovita, Vant, Inunda...</td>\n",
       "      <td>IS</td>\n",
       "      <td>NaN</td>\n",
       "      <td>NaN</td>\n",
       "      <td>NaN</td>\n",
       "      <td>44.600000</td>\n",
       "      <td>30.46</td>\n",
       "      <td>1010.700</td>\n",
       "      <td>-0.935</td>\n",
       "      <td>99.00</td>\n",
       "      <td>NaN</td>\n",
       "      <td>47.25000</td>\n",
       "      <td>27.25000</td>\n",
       "    </tr>\n",
       "    <tr>\n",
       "      <th>3</th>\n",
       "      <td>2009-02-19</td>\n",
       "      <td>Muntenia</td>\n",
       "      <td>[Ninsoare, Lapovita, Ploaie, Vant, Inundatie, ...</td>\n",
       "      <td>B</td>\n",
       "      <td>29.33375</td>\n",
       "      <td>13.971667</td>\n",
       "      <td>0.673333</td>\n",
       "      <td>34.428571</td>\n",
       "      <td>NaN</td>\n",
       "      <td>998.880</td>\n",
       "      <td>0.252</td>\n",
       "      <td>86.20</td>\n",
       "      <td>NaN</td>\n",
       "      <td>44.50000</td>\n",
       "      <td>26.08333</td>\n",
       "    </tr>\n",
       "    <tr>\n",
       "      <th>4</th>\n",
       "      <td>2009-02-19</td>\n",
       "      <td>Oltenia</td>\n",
       "      <td>[Ploaie, Lapovita, Ninsoare, Vant]</td>\n",
       "      <td>DJ</td>\n",
       "      <td>NaN</td>\n",
       "      <td>NaN</td>\n",
       "      <td>NaN</td>\n",
       "      <td>13.265000</td>\n",
       "      <td>22.18</td>\n",
       "      <td>NaN</td>\n",
       "      <td>0.760</td>\n",
       "      <td>97.00</td>\n",
       "      <td>NaN</td>\n",
       "      <td>44.16667</td>\n",
       "      <td>23.75000</td>\n",
       "    </tr>\n",
       "  </tbody>\n",
       "</table>\n",
       "</div>"
      ],
      "text/plain": [
       "        date    region                                          phenomena  \\\n",
       "0 2009-02-19     Banat                        [Ninsoare, Vant, Alunecare]   \n",
       "1 2009-02-19  Dobrogea  [Ploaie, Lapovita, Vant, Ninsoare, Inundatie, ...   \n",
       "2 2009-02-19   Moldova  [Ninsoare, Ger, Ploaie, Lapovita, Vant, Inunda...   \n",
       "3 2009-02-19  Muntenia  [Ninsoare, Lapovita, Ploaie, Vant, Inundatie, ...   \n",
       "4 2009-02-19   Oltenia                 [Ploaie, Lapovita, Ninsoare, Vant]   \n",
       "\n",
       "  county  42i - NO2_Valoare [µg/m³]  43i - SO2_Valoare [µg/m³]  \\\n",
       "0     TM                        NaN                        NaN   \n",
       "1     CT                        NaN                        NaN   \n",
       "2     IS                        NaN                        NaN   \n",
       "3      B                   29.33375                  13.971667   \n",
       "4     DJ                        NaN                        NaN   \n",
       "\n",
       "   48i - CO_Valoare [mg/m³]  GRAV. 10 - PM 10_Valoare [µg/m³]  \\\n",
       "0                       NaN                         51.630000   \n",
       "1                       NaN                         21.520000   \n",
       "2                       NaN                         44.600000   \n",
       "3                  0.673333                         34.428571   \n",
       "4                       NaN                         13.265000   \n",
       "\n",
       "   GRAV. 2.5 - PM 2.5_Valoare [µg/m³]  MTX - Presiunea aerului_Valoare [mbar]  \\\n",
       "0                               19.98                                 995.400   \n",
       "1                                 NaN                                1005.875   \n",
       "2                               30.46                                1010.700   \n",
       "3                                 NaN                                 998.880   \n",
       "4                               22.18                                     NaN   \n",
       "\n",
       "   MTX - Temperatura aer_Valoare [°C]  MTX - Umiditate relativa_Valoare [%]  \\\n",
       "0                              -4.095                                 85.50   \n",
       "1                               6.745                                 96.75   \n",
       "2                              -0.935                                 99.00   \n",
       "3                               0.252                                 86.20   \n",
       "4                               0.760                                 97.00   \n",
       "\n",
       "   water_average       lat      long  \n",
       "0            NaN  45.66667  21.50000  \n",
       "1            NaN  44.25000  28.33333  \n",
       "2            NaN  47.25000  27.25000  \n",
       "3            NaN  44.50000  26.08333  \n",
       "4            NaN  44.16667  23.75000  "
      ]
     },
     "execution_count": 149,
     "metadata": {},
     "output_type": "execute_result"
    }
   ],
   "source": [
    "df_merged = pd.merge(df_phen, coords, on=\"county\", how=\"left\")\n",
    "\n",
    "# Display the first few rows of the merged dataset to verify the merge\n",
    "df_merged.head()"
   ]
  },
  {
   "cell_type": "code",
   "execution_count": 150,
   "id": "1fbb7dfa-0fb7-479e-ab0b-e4d53f69a54e",
   "metadata": {
    "tags": []
   },
   "outputs": [],
   "source": [
    "df_merged.to_excel('data/set_corectat_complet.xlsx')"
   ]
  },
  {
   "cell_type": "code",
   "execution_count": 152,
   "id": "80ccf634-f747-4a14-8fe5-b0bcecc55be4",
   "metadata": {
    "tags": []
   },
   "outputs": [],
   "source": [
    "df_merged['date'] = pd.to_datetime(df_merged['date'])"
   ]
  },
  {
   "cell_type": "code",
   "execution_count": 155,
   "id": "1f4127a6-b0ab-4d19-88ae-afed0080f251",
   "metadata": {
    "tags": []
   },
   "outputs": [
    {
     "data": {
      "text/plain": [
       "date\n",
       "2021    2309\n",
       "2018    2264\n",
       "2019    2240\n",
       "2016    2209\n",
       "2020    2195\n",
       "2017    2176\n",
       "2022    2093\n",
       "2015    1912\n",
       "2009    1597\n",
       "2010    1583\n",
       "2014    1555\n",
       "2023    1457\n",
       "2011    1002\n",
       "2012     708\n",
       "2013     561\n",
       "Name: count, dtype: int64"
      ]
     },
     "execution_count": 155,
     "metadata": {},
     "output_type": "execute_result"
    }
   ],
   "source": [
    "df_merged['date'].dt.year.value_counts()"
   ]
  },
  {
   "cell_type": "code",
   "execution_count": null,
   "id": "2a88cbc2-f3d7-4ffd-827b-a1521601d1cc",
   "metadata": {},
   "outputs": [],
   "source": []
  }
 ],
 "metadata": {
  "kernelspec": {
   "display_name": "Python 3 (ipykernel)",
   "language": "python",
   "name": "python3"
  },
  "language_info": {
   "codemirror_mode": {
    "name": "ipython",
    "version": 3
   },
   "file_extension": ".py",
   "mimetype": "text/x-python",
   "name": "python",
   "nbconvert_exporter": "python",
   "pygments_lexer": "ipython3",
   "version": "3.11.4"
  }
 },
 "nbformat": 4,
 "nbformat_minor": 5
}
